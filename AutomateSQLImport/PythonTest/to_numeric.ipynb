{
 "cells": [
  {
   "cell_type": "code",
   "execution_count": 12,
   "metadata": {},
   "outputs": [],
   "source": [
    "import pandas as pd\n",
    "\n",
    "df = pd.read_csv('Adj Close.csv')"
   ]
  },
  {
   "cell_type": "code",
   "execution_count": 13,
   "metadata": {},
   "outputs": [
    {
     "data": {
      "text/html": [
       "<div>\n",
       "<style scoped>\n",
       "    .dataframe tbody tr th:only-of-type {\n",
       "        vertical-align: middle;\n",
       "    }\n",
       "\n",
       "    .dataframe tbody tr th {\n",
       "        vertical-align: top;\n",
       "    }\n",
       "\n",
       "    .dataframe thead th {\n",
       "        text-align: right;\n",
       "    }\n",
       "</style>\n",
       "<table border=\"1\" class=\"dataframe\">\n",
       "  <thead>\n",
       "    <tr style=\"text-align: right;\">\n",
       "      <th></th>\n",
       "      <th>Date</th>\n",
       "      <th>ASX200</th>\n",
       "      <th>BHP</th>\n",
       "      <th>Reject shop (TRS)</th>\n",
       "    </tr>\n",
       "  </thead>\n",
       "  <tbody>\n",
       "    <tr>\n",
       "      <th>0</th>\n",
       "      <td>1/3/2016</td>\n",
       "      <td>5270.500000</td>\n",
       "      <td>15.898844</td>\n",
       "      <td>9.630605</td>\n",
       "    </tr>\n",
       "    <tr>\n",
       "      <th>1</th>\n",
       "      <td>1/4/2016</td>\n",
       "      <td>5184.399902</td>\n",
       "      <td>15.702342</td>\n",
       "      <td>9.533148</td>\n",
       "    </tr>\n",
       "    <tr>\n",
       "      <th>2</th>\n",
       "      <td>1/5/2016</td>\n",
       "      <td>5123.100098</td>\n",
       "      <td>15.318267</td>\n",
       "      <td>9.719204</td>\n",
       "    </tr>\n",
       "    <tr>\n",
       "      <th>3</th>\n",
       "      <td>1/6/2016</td>\n",
       "      <td>5010.299805</td>\n",
       "      <td>14.585848</td>\n",
       "      <td>9.249632</td>\n",
       "    </tr>\n",
       "    <tr>\n",
       "      <th>4</th>\n",
       "      <td>1/7/2016</td>\n",
       "      <td>4990.799805</td>\n",
       "      <td>14.603714</td>\n",
       "      <td>9.063578</td>\n",
       "    </tr>\n",
       "  </tbody>\n",
       "</table>\n",
       "</div>"
      ],
      "text/plain": [
       "       Date       ASX200        BHP  Reject shop (TRS)\n",
       "0  1/3/2016  5270.500000  15.898844           9.630605\n",
       "1  1/4/2016  5184.399902  15.702342           9.533148\n",
       "2  1/5/2016  5123.100098  15.318267           9.719204\n",
       "3  1/6/2016  5010.299805  14.585848           9.249632\n",
       "4  1/7/2016  4990.799805  14.603714           9.063578"
      ]
     },
     "execution_count": 13,
     "metadata": {},
     "output_type": "execute_result"
    }
   ],
   "source": [
    "df.head()"
   ]
  },
  {
   "cell_type": "code",
   "execution_count": 17,
   "metadata": {},
   "outputs": [
    {
     "data": {
      "text/html": [
       "<div>\n",
       "<style scoped>\n",
       "    .dataframe tbody tr th:only-of-type {\n",
       "        vertical-align: middle;\n",
       "    }\n",
       "\n",
       "    .dataframe tbody tr th {\n",
       "        vertical-align: top;\n",
       "    }\n",
       "\n",
       "    .dataframe thead th {\n",
       "        text-align: right;\n",
       "    }\n",
       "</style>\n",
       "<table border=\"1\" class=\"dataframe\">\n",
       "  <thead>\n",
       "    <tr style=\"text-align: right;\">\n",
       "      <th></th>\n",
       "      <th>Date</th>\n",
       "      <th>ASX200</th>\n",
       "      <th>BHP</th>\n",
       "      <th>Reject shop (TRS)</th>\n",
       "    </tr>\n",
       "  </thead>\n",
       "  <tbody>\n",
       "    <tr>\n",
       "      <th>0</th>\n",
       "      <td>False</td>\n",
       "      <td>False</td>\n",
       "      <td>False</td>\n",
       "      <td>False</td>\n",
       "    </tr>\n",
       "    <tr>\n",
       "      <th>1</th>\n",
       "      <td>False</td>\n",
       "      <td>False</td>\n",
       "      <td>False</td>\n",
       "      <td>False</td>\n",
       "    </tr>\n",
       "    <tr>\n",
       "      <th>2</th>\n",
       "      <td>False</td>\n",
       "      <td>False</td>\n",
       "      <td>False</td>\n",
       "      <td>False</td>\n",
       "    </tr>\n",
       "    <tr>\n",
       "      <th>3</th>\n",
       "      <td>False</td>\n",
       "      <td>False</td>\n",
       "      <td>False</td>\n",
       "      <td>False</td>\n",
       "    </tr>\n",
       "    <tr>\n",
       "      <th>4</th>\n",
       "      <td>False</td>\n",
       "      <td>False</td>\n",
       "      <td>False</td>\n",
       "      <td>False</td>\n",
       "    </tr>\n",
       "    <tr>\n",
       "      <th>...</th>\n",
       "      <td>...</td>\n",
       "      <td>...</td>\n",
       "      <td>...</td>\n",
       "      <td>...</td>\n",
       "    </tr>\n",
       "    <tr>\n",
       "      <th>705</th>\n",
       "      <td>False</td>\n",
       "      <td>False</td>\n",
       "      <td>False</td>\n",
       "      <td>False</td>\n",
       "    </tr>\n",
       "    <tr>\n",
       "      <th>706</th>\n",
       "      <td>False</td>\n",
       "      <td>False</td>\n",
       "      <td>False</td>\n",
       "      <td>False</td>\n",
       "    </tr>\n",
       "    <tr>\n",
       "      <th>707</th>\n",
       "      <td>False</td>\n",
       "      <td>False</td>\n",
       "      <td>False</td>\n",
       "      <td>False</td>\n",
       "    </tr>\n",
       "    <tr>\n",
       "      <th>708</th>\n",
       "      <td>True</td>\n",
       "      <td>True</td>\n",
       "      <td>True</td>\n",
       "      <td>True</td>\n",
       "    </tr>\n",
       "    <tr>\n",
       "      <th>709</th>\n",
       "      <td>True</td>\n",
       "      <td>True</td>\n",
       "      <td>True</td>\n",
       "      <td>True</td>\n",
       "    </tr>\n",
       "  </tbody>\n",
       "</table>\n",
       "<p>710 rows × 4 columns</p>\n",
       "</div>"
      ],
      "text/plain": [
       "      Date  ASX200    BHP  Reject shop (TRS)\n",
       "0    False   False  False              False\n",
       "1    False   False  False              False\n",
       "2    False   False  False              False\n",
       "3    False   False  False              False\n",
       "4    False   False  False              False\n",
       "..     ...     ...    ...                ...\n",
       "705  False   False  False              False\n",
       "706  False   False  False              False\n",
       "707  False   False  False              False\n",
       "708   True    True   True               True\n",
       "709   True    True   True               True\n",
       "\n",
       "[710 rows x 4 columns]"
      ]
     },
     "execution_count": 17,
     "metadata": {},
     "output_type": "execute_result"
    }
   ],
   "source": [
    "df.isna()"
   ]
  },
  {
   "cell_type": "code",
   "execution_count": 18,
   "metadata": {},
   "outputs": [],
   "source": [
    "df.dropna(how='all',inplace=True)"
   ]
  },
  {
   "cell_type": "code",
   "execution_count": 55,
   "metadata": {},
   "outputs": [],
   "source": [
    "def findDataType(column):\n",
    "#     column = dataframe[columnName]\n",
    "    try:\n",
    "        column = pd.to_numeric(column)\n",
    "    except:\n",
    "        # column is not of type int or float\n",
    "        try:\n",
    "            column = pd.to_datetime(column)\n",
    "        except:\n",
    "            # just parse column as string because it's not a number and it's not in date/time format\n",
    "            column = column.astype('string')\n",
    "    finally:\n",
    "        return column.dtype\n",
    "    \n",
    "            "
   ]
  },
  {
   "cell_type": "code",
   "execution_count": 80,
   "metadata": {},
   "outputs": [
    {
     "data": {
      "text/plain": [
       "'float'"
      ]
     },
     "execution_count": 80,
     "metadata": {},
     "output_type": "execute_result"
    }
   ],
   "source": [
    "import re\n",
    "column = test_df['Column_8']\n",
    "column = column[(column.notna()) &\n",
    "                (column != '')]\n",
    "# test_df['Column_7'] = column\n",
    "# findDataType(column).name\n",
    "\n",
    "re.search('\\D+',findDataType(column).name).group()"
   ]
  },
  {
   "cell_type": "code",
   "execution_count": 39,
   "metadata": {},
   "outputs": [
    {
     "data": {
      "text/html": [
       "<div>\n",
       "<style scoped>\n",
       "    .dataframe tbody tr th:only-of-type {\n",
       "        vertical-align: middle;\n",
       "    }\n",
       "\n",
       "    .dataframe tbody tr th {\n",
       "        vertical-align: top;\n",
       "    }\n",
       "\n",
       "    .dataframe thead th {\n",
       "        text-align: right;\n",
       "    }\n",
       "</style>\n",
       "<table border=\"1\" class=\"dataframe\">\n",
       "  <thead>\n",
       "    <tr style=\"text-align: right;\">\n",
       "      <th></th>\n",
       "      <th>Column_1</th>\n",
       "      <th>Column_2</th>\n",
       "      <th>Column_3</th>\n",
       "      <th>Column_4</th>\n",
       "      <th>Column_5</th>\n",
       "      <th>Column_6</th>\n",
       "      <th>Column_7</th>\n",
       "      <th>Column_8</th>\n",
       "    </tr>\n",
       "  </thead>\n",
       "  <tbody>\n",
       "    <tr>\n",
       "      <th>0</th>\n",
       "      <td>Stanley</td>\n",
       "      <td>22</td>\n",
       "      <td>11/22/2017</td>\n",
       "      <td>10/27/2015</td>\n",
       "      <td>Jan</td>\n",
       "      <td>January</td>\n",
       "      <td>22</td>\n",
       "      <td>3.50</td>\n",
       "    </tr>\n",
       "    <tr>\n",
       "      <th>1</th>\n",
       "      <td>Leonhard</td>\n",
       "      <td>This is it</td>\n",
       "      <td>12/20/2018</td>\n",
       "      <td>12/15/2016</td>\n",
       "      <td>Feb</td>\n",
       "      <td>February</td>\n",
       "      <td>None</td>\n",
       "      <td>0.05</td>\n",
       "    </tr>\n",
       "    <tr>\n",
       "      <th>2</th>\n",
       "      <td>Setiawwan</td>\n",
       "      <td>random</td>\n",
       "      <td>09/05/2020</td>\n",
       "      <td>27/10/2015</td>\n",
       "      <td>Mar</td>\n",
       "      <td>March</td>\n",
       "      <td></td>\n",
       "      <td>999.40</td>\n",
       "    </tr>\n",
       "  </tbody>\n",
       "</table>\n",
       "</div>"
      ],
      "text/plain": [
       "    Column_1    Column_2    Column_3    Column_4 Column_5  Column_6 Column_7  \\\n",
       "0    Stanley          22  11/22/2017  10/27/2015      Jan   January       22   \n",
       "1   Leonhard  This is it  12/20/2018  12/15/2016      Feb  February     None   \n",
       "2  Setiawwan      random  09/05/2020  27/10/2015      Mar     March            \n",
       "\n",
       "   Column_8  \n",
       "0      3.50  \n",
       "1      0.05  \n",
       "2    999.40  "
      ]
     },
     "execution_count": 39,
     "metadata": {},
     "output_type": "execute_result"
    }
   ],
   "source": [
    "test_df"
   ]
  },
  {
   "cell_type": "code",
   "execution_count": 24,
   "metadata": {},
   "outputs": [
    {
     "data": {
      "text/plain": [
       "Date                  object\n",
       "ASX200               float64\n",
       "BHP                  float64\n",
       "Reject shop (TRS)    float64\n",
       "dtype: object"
      ]
     },
     "execution_count": 24,
     "metadata": {},
     "output_type": "execute_result"
    }
   ],
   "source": [
    "df.dtypes"
   ]
  },
  {
   "cell_type": "code",
   "execution_count": 25,
   "metadata": {},
   "outputs": [],
   "source": [
    "test_df = pd.DataFrame({'Column_1':['Stanley','Leonhard','Setiawwan'],\n",
    "                        'Column_2':['22','This is it','random'],\n",
    "                        'Column_3':['11/22/2017','12/20/2018','09/05/2020'],\n",
    "                        'Column_4':['10/27/2015','12/15/2016','27/10/2015']})"
   ]
  },
  {
   "cell_type": "code",
   "execution_count": 26,
   "metadata": {},
   "outputs": [],
   "source": [
    "test_df['Column_5'] = pd.Series(['Jan','Feb','Mar'])\n",
    "test_df['Column_6'] = pd.Series(['January','February','March'])"
   ]
  },
  {
   "cell_type": "code",
   "execution_count": 27,
   "metadata": {},
   "outputs": [],
   "source": [
    "test_df['Column_7'] = [22,None,'']\n",
    "test_df['Column_8'] = [3.5,0.05,999.4]"
   ]
  },
  {
   "cell_type": "code",
   "execution_count": 28,
   "metadata": {},
   "outputs": [
    {
     "data": {
      "text/html": [
       "<div>\n",
       "<style scoped>\n",
       "    .dataframe tbody tr th:only-of-type {\n",
       "        vertical-align: middle;\n",
       "    }\n",
       "\n",
       "    .dataframe tbody tr th {\n",
       "        vertical-align: top;\n",
       "    }\n",
       "\n",
       "    .dataframe thead th {\n",
       "        text-align: right;\n",
       "    }\n",
       "</style>\n",
       "<table border=\"1\" class=\"dataframe\">\n",
       "  <thead>\n",
       "    <tr style=\"text-align: right;\">\n",
       "      <th></th>\n",
       "      <th>Column_1</th>\n",
       "      <th>Column_2</th>\n",
       "      <th>Column_3</th>\n",
       "      <th>Column_4</th>\n",
       "      <th>Column_5</th>\n",
       "      <th>Column_6</th>\n",
       "      <th>Column_7</th>\n",
       "      <th>Column_8</th>\n",
       "    </tr>\n",
       "  </thead>\n",
       "  <tbody>\n",
       "    <tr>\n",
       "      <th>0</th>\n",
       "      <td>Stanley</td>\n",
       "      <td>22</td>\n",
       "      <td>11/22/2017</td>\n",
       "      <td>10/27/2015</td>\n",
       "      <td>Jan</td>\n",
       "      <td>January</td>\n",
       "      <td>22</td>\n",
       "      <td>3.50</td>\n",
       "    </tr>\n",
       "    <tr>\n",
       "      <th>1</th>\n",
       "      <td>Leonhard</td>\n",
       "      <td>This is it</td>\n",
       "      <td>12/20/2018</td>\n",
       "      <td>12/15/2016</td>\n",
       "      <td>Feb</td>\n",
       "      <td>February</td>\n",
       "      <td>None</td>\n",
       "      <td>0.05</td>\n",
       "    </tr>\n",
       "    <tr>\n",
       "      <th>2</th>\n",
       "      <td>Setiawwan</td>\n",
       "      <td>random</td>\n",
       "      <td>09/05/2020</td>\n",
       "      <td>27/10/2015</td>\n",
       "      <td>Mar</td>\n",
       "      <td>March</td>\n",
       "      <td></td>\n",
       "      <td>999.40</td>\n",
       "    </tr>\n",
       "  </tbody>\n",
       "</table>\n",
       "</div>"
      ],
      "text/plain": [
       "    Column_1    Column_2    Column_3    Column_4 Column_5  Column_6 Column_7  \\\n",
       "0    Stanley          22  11/22/2017  10/27/2015      Jan   January       22   \n",
       "1   Leonhard  This is it  12/20/2018  12/15/2016      Feb  February     None   \n",
       "2  Setiawwan      random  09/05/2020  27/10/2015      Mar     March            \n",
       "\n",
       "   Column_8  \n",
       "0      3.50  \n",
       "1      0.05  \n",
       "2    999.40  "
      ]
     },
     "execution_count": 28,
     "metadata": {},
     "output_type": "execute_result"
    }
   ],
   "source": [
    "test_df"
   ]
  },
  {
   "cell_type": "code",
   "execution_count": 32,
   "metadata": {},
   "outputs": [
    {
     "data": {
      "text/plain": [
       "0    11/22/2017\n",
       "1    12/20/2018\n",
       "2    09/05/2020\n",
       "Name: Column_3, dtype: string"
      ]
     },
     "execution_count": 32,
     "metadata": {},
     "output_type": "execute_result"
    }
   ],
   "source": [
    "test_df['Column_3'].astype(\"string\")"
   ]
  },
  {
   "cell_type": "code",
   "execution_count": 34,
   "metadata": {},
   "outputs": [
    {
     "data": {
      "text/plain": [
       "0    11/22/2017\n",
       "1    12/20/2018\n",
       "2    09/05/2020\n",
       "Name: Column_3, dtype: object"
      ]
     },
     "execution_count": 34,
     "metadata": {},
     "output_type": "execute_result"
    }
   ],
   "source": [
    "test_df['Column_3']"
   ]
  }
 ],
 "metadata": {
  "kernelspec": {
   "display_name": "Python 3",
   "language": "python",
   "name": "python3"
  },
  "language_info": {
   "codemirror_mode": {
    "name": "ipython",
    "version": 3
   },
   "file_extension": ".py",
   "mimetype": "text/x-python",
   "name": "python",
   "nbconvert_exporter": "python",
   "pygments_lexer": "ipython3",
   "version": "3.7.6"
  }
 },
 "nbformat": 4,
 "nbformat_minor": 4
}
