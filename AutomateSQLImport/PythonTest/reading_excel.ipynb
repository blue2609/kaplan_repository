{
 "cells": [
  {
   "cell_type": "markdown",
   "source": [
    "### Reading with pd.ExcelFile()"
   ],
   "metadata": {}
  },
  {
   "cell_type": "code",
   "execution_count": 19,
   "source": [
    "import pandas as pd\r\n",
    "\r\n",
    "excel_file = pd.ExcelFile('C:/Users/stanley.setiawan/Documents/Datasets/DATA 4000/Financial_data.xlsx')\r\n",
    "df = excel_file.parse('ASX200')"
   ],
   "outputs": [],
   "metadata": {}
  },
  {
   "cell_type": "markdown",
   "source": [
    "### Reading with pd.read_excel() function"
   ],
   "metadata": {}
  },
  {
   "cell_type": "code",
   "execution_count": 60,
   "source": [
    "df = pd.read_excel(\"C:/Users/stanley.setiawan/Documents/Datasets/DATA 4000/Financial_data.xlsx\")"
   ],
   "outputs": [],
   "metadata": {}
  },
  {
   "cell_type": "code",
   "execution_count": 66,
   "source": [
    "df = pd.read_csv(\"C:/Users/stanley.setiawan/Documents/Datasets/DATA 4000/Financial_data_in_csv_format/Adj Close.csv\")"
   ],
   "outputs": [],
   "metadata": {}
  },
  {
   "cell_type": "code",
   "execution_count": 67,
   "source": [
    "\r\n",
    "def convert_datecol_to_string(df_obj):\r\n",
    "\tfor column_name in df_obj.select_dtypes('datetime').columns:\r\n",
    "\t\tdf_obj[column_name] = df_obj[column_name].astype('str')\r\n",
    "\treturn df_obj\r\n",
    "\r\n",
    "df = convert_datecol_to_string(df)\r\n",
    "df.info()"
   ],
   "outputs": [
    {
     "output_type": "stream",
     "name": "stdout",
     "text": [
      "<class 'pandas.core.frame.DataFrame'>\n",
      "RangeIndex: 710 entries, 0 to 709\n",
      "Data columns (total 4 columns):\n",
      " #   Column             Non-Null Count  Dtype  \n",
      "---  ------             --------------  -----  \n",
      " 0   Date               708 non-null    object \n",
      " 1   ASX200             708 non-null    float64\n",
      " 2   BHP                708 non-null    float64\n",
      " 3   Reject shop (TRS)  708 non-null    float64\n",
      "dtypes: float64(3), object(1)\n",
      "memory usage: 22.3+ KB\n"
     ]
    }
   ],
   "metadata": {}
  },
  {
   "cell_type": "code",
   "execution_count": 47,
   "source": [
    "df.info()"
   ],
   "outputs": [
    {
     "output_type": "stream",
     "name": "stdout",
     "text": [
      "<class 'pandas.core.frame.DataFrame'>\n",
      "RangeIndex: 710 entries, 0 to 709\n",
      "Data columns (total 4 columns):\n",
      " #   Column             Non-Null Count  Dtype  \n",
      "---  ------             --------------  -----  \n",
      " 0   Date               708 non-null    object \n",
      " 1   ASX200             708 non-null    float64\n",
      " 2   BHP                708 non-null    float64\n",
      " 3   Reject shop (TRS)  708 non-null    float64\n",
      "dtypes: float64(3), object(1)\n",
      "memory usage: 22.3+ KB\n"
     ]
    }
   ],
   "metadata": {}
  },
  {
   "cell_type": "code",
   "execution_count": 45,
   "source": [
    "import numpy as np\r\n",
    "df.select_dtypes(include='datetime')"
   ],
   "outputs": [
    {
     "output_type": "execute_result",
     "data": {
      "text/plain": [
       "          Date\n",
       "0   2016-01-03\n",
       "1   2016-01-04\n",
       "2   2016-01-05\n",
       "3   2016-01-06\n",
       "4   2016-01-07\n",
       "..         ...\n",
       "704 2018-10-14\n",
       "705 2018-10-15\n",
       "706 2018-10-16\n",
       "707 2018-10-17\n",
       "708 2018-10-18\n",
       "\n",
       "[709 rows x 1 columns]"
      ],
      "text/html": [
       "<div>\n",
       "<style scoped>\n",
       "    .dataframe tbody tr th:only-of-type {\n",
       "        vertical-align: middle;\n",
       "    }\n",
       "\n",
       "    .dataframe tbody tr th {\n",
       "        vertical-align: top;\n",
       "    }\n",
       "\n",
       "    .dataframe thead th {\n",
       "        text-align: right;\n",
       "    }\n",
       "</style>\n",
       "<table border=\"1\" class=\"dataframe\">\n",
       "  <thead>\n",
       "    <tr style=\"text-align: right;\">\n",
       "      <th></th>\n",
       "      <th>Date</th>\n",
       "    </tr>\n",
       "  </thead>\n",
       "  <tbody>\n",
       "    <tr>\n",
       "      <th>0</th>\n",
       "      <td>2016-01-03</td>\n",
       "    </tr>\n",
       "    <tr>\n",
       "      <th>1</th>\n",
       "      <td>2016-01-04</td>\n",
       "    </tr>\n",
       "    <tr>\n",
       "      <th>2</th>\n",
       "      <td>2016-01-05</td>\n",
       "    </tr>\n",
       "    <tr>\n",
       "      <th>3</th>\n",
       "      <td>2016-01-06</td>\n",
       "    </tr>\n",
       "    <tr>\n",
       "      <th>4</th>\n",
       "      <td>2016-01-07</td>\n",
       "    </tr>\n",
       "    <tr>\n",
       "      <th>...</th>\n",
       "      <td>...</td>\n",
       "    </tr>\n",
       "    <tr>\n",
       "      <th>704</th>\n",
       "      <td>2018-10-14</td>\n",
       "    </tr>\n",
       "    <tr>\n",
       "      <th>705</th>\n",
       "      <td>2018-10-15</td>\n",
       "    </tr>\n",
       "    <tr>\n",
       "      <th>706</th>\n",
       "      <td>2018-10-16</td>\n",
       "    </tr>\n",
       "    <tr>\n",
       "      <th>707</th>\n",
       "      <td>2018-10-17</td>\n",
       "    </tr>\n",
       "    <tr>\n",
       "      <th>708</th>\n",
       "      <td>2018-10-18</td>\n",
       "    </tr>\n",
       "  </tbody>\n",
       "</table>\n",
       "<p>709 rows × 1 columns</p>\n",
       "</div>"
      ]
     },
     "metadata": {},
     "execution_count": 45
    }
   ],
   "metadata": {}
  },
  {
   "cell_type": "code",
   "execution_count": null,
   "source": [],
   "outputs": [],
   "metadata": {}
  },
  {
   "cell_type": "code",
   "execution_count": 16,
   "source": [
    "df.info()\r\n",
    "def convert_to_string(df_obj)\r\n",
    "\tfor column_name in df_obj.columns:\r\n",
    "\t\tif 'datetime' in df_obj[column_name].dtype.name:\r\n",
    "\t\t\tdf[column_name] = df[column_name].astype('str')"
   ],
   "outputs": [
    {
     "output_type": "stream",
     "name": "stdout",
     "text": [
      "<class 'pandas.core.frame.DataFrame'>\n",
      "RangeIndex: 709 entries, 0 to 708\n",
      "Data columns (total 7 columns):\n",
      " #   Column     Non-Null Count  Dtype  \n",
      "---  ------     --------------  -----  \n",
      " 0   Date       709 non-null    object \n",
      " 1   Open       708 non-null    float64\n",
      " 2   High       708 non-null    float64\n",
      " 3   Low        708 non-null    float64\n",
      " 4   Close      708 non-null    float64\n",
      " 5   Adj Close  708 non-null    float64\n",
      " 6   Volume     708 non-null    float64\n",
      "dtypes: float64(6), object(1)\n",
      "memory usage: 38.9+ KB\n",
      "object\n",
      "float64\n",
      "float64\n",
      "float64\n",
      "float64\n",
      "float64\n",
      "float64\n"
     ]
    }
   ],
   "metadata": {}
  },
  {
   "cell_type": "code",
   "execution_count": 8,
   "source": [
    "def findDataType(dataFrameColumn):\r\n",
    "    try:\r\n",
    "        column = pd.to_numeric(dataFrameColumn)\r\n",
    "        dataType=column.dtype.name\r\n",
    "    except:\r\n",
    "        column = dataFrameColumn.astype('str')\r\n",
    "        # dataType = column.dtype.name\r\n",
    "        dataType ='string' \r\n",
    "\r\n",
    "        try:\r\n",
    "            column = pd.to_datetime(dataFrameColumn)\r\n",
    "            dataType='datetime'\r\n",
    "        except:\r\n",
    "            # column = dataFrameColumn.astype('string')\r\n",
    "            # dataType = column.dtype.name\r\n",
    "            column = dataFrameColumn.astype('str')\r\n",
    "            dataType = 'string' \r\n",
    "        else:\r\n",
    "            if (column.dt.floor('d') == column).all():\r\n",
    "                dataType = 'date'\r\n",
    "            elif (column.dt.date == pd.Timestamp('now')).all():\r\n",
    "                dataType = 'time'\r\n",
    "            else:\r\n",
    "                # dataType=column.dtype.name\r\n",
    "                dataType='string'\r\n",
    "    finally:\r\n",
    "        return dataType\r\n"
   ],
   "outputs": [],
   "metadata": {}
  },
  {
   "cell_type": "code",
   "execution_count": 9,
   "source": [
    "findDataType(df['Date'])"
   ],
   "outputs": [
    {
     "output_type": "execute_result",
     "data": {
      "text/plain": [
       "'int64'"
      ]
     },
     "metadata": {},
     "execution_count": 9
    }
   ],
   "metadata": {}
  }
 ],
 "metadata": {
  "orig_nbformat": 4,
  "language_info": {
   "name": "python",
   "version": "3.8.5",
   "mimetype": "text/x-python",
   "codemirror_mode": {
    "name": "ipython",
    "version": 3
   },
   "pygments_lexer": "ipython3",
   "nbconvert_exporter": "python",
   "file_extension": ".py"
  },
  "kernelspec": {
   "name": "python3",
   "display_name": "Python 3.8.5 64-bit ('Automate_SQL_Import': conda)"
  },
  "interpreter": {
   "hash": "6c67739f85d34a2f4eafbfb417fc97abe34e98b64e55701084c5ab4776d90afc"
  }
 },
 "nbformat": 4,
 "nbformat_minor": 2
}