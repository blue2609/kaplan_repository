{
 "cells": [
  {
   "cell_type": "code",
   "execution_count": 1,
   "metadata": {},
   "outputs": [],
   "source": [
    "import pandas as pd\n",
    "\n",
    "df = pd.read_csv('Adj Close.csv')"
   ]
  },
  {
   "cell_type": "code",
   "execution_count": 2,
   "metadata": {},
   "outputs": [
    {
     "data": {
      "text/html": [
       "<div>\n",
       "<style scoped>\n",
       "    .dataframe tbody tr th:only-of-type {\n",
       "        vertical-align: middle;\n",
       "    }\n",
       "\n",
       "    .dataframe tbody tr th {\n",
       "        vertical-align: top;\n",
       "    }\n",
       "\n",
       "    .dataframe thead th {\n",
       "        text-align: right;\n",
       "    }\n",
       "</style>\n",
       "<table border=\"1\" class=\"dataframe\">\n",
       "  <thead>\n",
       "    <tr style=\"text-align: right;\">\n",
       "      <th></th>\n",
       "      <th>Date</th>\n",
       "      <th>ASX200</th>\n",
       "      <th>BHP</th>\n",
       "      <th>Reject shop (TRS)</th>\n",
       "    </tr>\n",
       "  </thead>\n",
       "  <tbody>\n",
       "    <tr>\n",
       "      <th>0</th>\n",
       "      <td>1/3/2016</td>\n",
       "      <td>5270.500000</td>\n",
       "      <td>15.898844</td>\n",
       "      <td>9.630605</td>\n",
       "    </tr>\n",
       "    <tr>\n",
       "      <th>1</th>\n",
       "      <td>1/4/2016</td>\n",
       "      <td>5184.399902</td>\n",
       "      <td>15.702342</td>\n",
       "      <td>9.533148</td>\n",
       "    </tr>\n",
       "    <tr>\n",
       "      <th>2</th>\n",
       "      <td>1/5/2016</td>\n",
       "      <td>5123.100098</td>\n",
       "      <td>15.318267</td>\n",
       "      <td>9.719204</td>\n",
       "    </tr>\n",
       "    <tr>\n",
       "      <th>3</th>\n",
       "      <td>1/6/2016</td>\n",
       "      <td>5010.299805</td>\n",
       "      <td>14.585848</td>\n",
       "      <td>9.249632</td>\n",
       "    </tr>\n",
       "    <tr>\n",
       "      <th>4</th>\n",
       "      <td>1/7/2016</td>\n",
       "      <td>4990.799805</td>\n",
       "      <td>14.603714</td>\n",
       "      <td>9.063578</td>\n",
       "    </tr>\n",
       "    <tr>\n",
       "      <th>...</th>\n",
       "      <td>...</td>\n",
       "      <td>...</td>\n",
       "      <td>...</td>\n",
       "      <td>...</td>\n",
       "    </tr>\n",
       "    <tr>\n",
       "      <th>705</th>\n",
       "      <td>10/16/2018</td>\n",
       "      <td>5939.100098</td>\n",
       "      <td>33.660000</td>\n",
       "      <td>2.730000</td>\n",
       "    </tr>\n",
       "    <tr>\n",
       "      <th>706</th>\n",
       "      <td>10/17/2018</td>\n",
       "      <td>5942.399902</td>\n",
       "      <td>33.200001</td>\n",
       "      <td>2.630000</td>\n",
       "    </tr>\n",
       "    <tr>\n",
       "      <th>707</th>\n",
       "      <td>10/18/2018</td>\n",
       "      <td>5939.500000</td>\n",
       "      <td>33.099998</td>\n",
       "      <td>2.460000</td>\n",
       "    </tr>\n",
       "    <tr>\n",
       "      <th>708</th>\n",
       "      <td>NaN</td>\n",
       "      <td>NaN</td>\n",
       "      <td>NaN</td>\n",
       "      <td>NaN</td>\n",
       "    </tr>\n",
       "    <tr>\n",
       "      <th>709</th>\n",
       "      <td>NaN</td>\n",
       "      <td>NaN</td>\n",
       "      <td>NaN</td>\n",
       "      <td>NaN</td>\n",
       "    </tr>\n",
       "  </tbody>\n",
       "</table>\n",
       "<p>710 rows × 4 columns</p>\n",
       "</div>"
      ],
      "text/plain": [
       "           Date       ASX200        BHP  Reject shop (TRS)\n",
       "0      1/3/2016  5270.500000  15.898844           9.630605\n",
       "1      1/4/2016  5184.399902  15.702342           9.533148\n",
       "2      1/5/2016  5123.100098  15.318267           9.719204\n",
       "3      1/6/2016  5010.299805  14.585848           9.249632\n",
       "4      1/7/2016  4990.799805  14.603714           9.063578\n",
       "..          ...          ...        ...                ...\n",
       "705  10/16/2018  5939.100098  33.660000           2.730000\n",
       "706  10/17/2018  5942.399902  33.200001           2.630000\n",
       "707  10/18/2018  5939.500000  33.099998           2.460000\n",
       "708         NaN          NaN        NaN                NaN\n",
       "709         NaN          NaN        NaN                NaN\n",
       "\n",
       "[710 rows x 4 columns]"
      ]
     },
     "execution_count": 2,
     "metadata": {},
     "output_type": "execute_result"
    }
   ],
   "source": [
    "df"
   ]
  },
  {
   "cell_type": "code",
   "execution_count": 3,
   "metadata": {},
   "outputs": [],
   "source": [
    "df.dropna(how='all',inplace=True)"
   ]
  },
  {
   "cell_type": "code",
   "execution_count": 4,
   "metadata": {},
   "outputs": [
    {
     "data": {
      "text/html": [
       "<div>\n",
       "<style scoped>\n",
       "    .dataframe tbody tr th:only-of-type {\n",
       "        vertical-align: middle;\n",
       "    }\n",
       "\n",
       "    .dataframe tbody tr th {\n",
       "        vertical-align: top;\n",
       "    }\n",
       "\n",
       "    .dataframe thead th {\n",
       "        text-align: right;\n",
       "    }\n",
       "</style>\n",
       "<table border=\"1\" class=\"dataframe\">\n",
       "  <thead>\n",
       "    <tr style=\"text-align: right;\">\n",
       "      <th></th>\n",
       "      <th>Date</th>\n",
       "      <th>ASX200</th>\n",
       "      <th>BHP</th>\n",
       "      <th>Reject shop (TRS)</th>\n",
       "    </tr>\n",
       "  </thead>\n",
       "  <tbody>\n",
       "    <tr>\n",
       "      <th>0</th>\n",
       "      <td>1/3/2016</td>\n",
       "      <td>5270.500000</td>\n",
       "      <td>15.898844</td>\n",
       "      <td>9.630605</td>\n",
       "    </tr>\n",
       "    <tr>\n",
       "      <th>1</th>\n",
       "      <td>1/4/2016</td>\n",
       "      <td>5184.399902</td>\n",
       "      <td>15.702342</td>\n",
       "      <td>9.533148</td>\n",
       "    </tr>\n",
       "    <tr>\n",
       "      <th>2</th>\n",
       "      <td>1/5/2016</td>\n",
       "      <td>5123.100098</td>\n",
       "      <td>15.318267</td>\n",
       "      <td>9.719204</td>\n",
       "    </tr>\n",
       "    <tr>\n",
       "      <th>3</th>\n",
       "      <td>1/6/2016</td>\n",
       "      <td>5010.299805</td>\n",
       "      <td>14.585848</td>\n",
       "      <td>9.249632</td>\n",
       "    </tr>\n",
       "    <tr>\n",
       "      <th>4</th>\n",
       "      <td>1/7/2016</td>\n",
       "      <td>4990.799805</td>\n",
       "      <td>14.603714</td>\n",
       "      <td>9.063578</td>\n",
       "    </tr>\n",
       "    <tr>\n",
       "      <th>...</th>\n",
       "      <td>...</td>\n",
       "      <td>...</td>\n",
       "      <td>...</td>\n",
       "      <td>...</td>\n",
       "    </tr>\n",
       "    <tr>\n",
       "      <th>703</th>\n",
       "      <td>10/14/2018</td>\n",
       "      <td>5837.100098</td>\n",
       "      <td>33.340000</td>\n",
       "      <td>4.430000</td>\n",
       "    </tr>\n",
       "    <tr>\n",
       "      <th>704</th>\n",
       "      <td>10/15/2018</td>\n",
       "      <td>5869.899902</td>\n",
       "      <td>33.900002</td>\n",
       "      <td>4.470000</td>\n",
       "    </tr>\n",
       "    <tr>\n",
       "      <th>705</th>\n",
       "      <td>10/16/2018</td>\n",
       "      <td>5939.100098</td>\n",
       "      <td>33.660000</td>\n",
       "      <td>2.730000</td>\n",
       "    </tr>\n",
       "    <tr>\n",
       "      <th>706</th>\n",
       "      <td>10/17/2018</td>\n",
       "      <td>5942.399902</td>\n",
       "      <td>33.200001</td>\n",
       "      <td>2.630000</td>\n",
       "    </tr>\n",
       "    <tr>\n",
       "      <th>707</th>\n",
       "      <td>10/18/2018</td>\n",
       "      <td>5939.500000</td>\n",
       "      <td>33.099998</td>\n",
       "      <td>2.460000</td>\n",
       "    </tr>\n",
       "  </tbody>\n",
       "</table>\n",
       "<p>708 rows × 4 columns</p>\n",
       "</div>"
      ],
      "text/plain": [
       "           Date       ASX200        BHP  Reject shop (TRS)\n",
       "0      1/3/2016  5270.500000  15.898844           9.630605\n",
       "1      1/4/2016  5184.399902  15.702342           9.533148\n",
       "2      1/5/2016  5123.100098  15.318267           9.719204\n",
       "3      1/6/2016  5010.299805  14.585848           9.249632\n",
       "4      1/7/2016  4990.799805  14.603714           9.063578\n",
       "..          ...          ...        ...                ...\n",
       "703  10/14/2018  5837.100098  33.340000           4.430000\n",
       "704  10/15/2018  5869.899902  33.900002           4.470000\n",
       "705  10/16/2018  5939.100098  33.660000           2.730000\n",
       "706  10/17/2018  5942.399902  33.200001           2.630000\n",
       "707  10/18/2018  5939.500000  33.099998           2.460000\n",
       "\n",
       "[708 rows x 4 columns]"
      ]
     },
     "execution_count": 4,
     "metadata": {},
     "output_type": "execute_result"
    }
   ],
   "source": [
    "df"
   ]
  },
  {
   "cell_type": "code",
   "execution_count": 24,
   "metadata": {},
   "outputs": [
    {
     "data": {
      "text/plain": [
       "0        1/3/2016\n",
       "1        1/4/2016\n",
       "2        1/5/2016\n",
       "3        1/6/2016\n",
       "4        1/7/2016\n",
       "          ...    \n",
       "703    10/14/2018\n",
       "704    10/15/2018\n",
       "705    10/16/2018\n",
       "706    10/17/2018\n",
       "707    10/18/2018\n",
       "Name: Date, Length: 708, dtype: object"
      ]
     },
     "execution_count": 24,
     "metadata": {},
     "output_type": "execute_result"
    }
   ],
   "source": [
    "df['Date']"
   ]
  },
  {
   "cell_type": "code",
   "execution_count": 23,
   "metadata": {},
   "outputs": [
    {
     "name": "stdout",
     "output_type": "stream",
     "text": [
      "this is a date column\n"
     ]
    }
   ],
   "source": [
    "try:\n",
    "     column = pd.to_datetime(df['Date'])\n",
    "except:\n",
    "    pass\n",
    "else:\n",
    "    if (column.dt.floor('d') == column).all():\n",
    "        print('this is a date column')\n",
    "    elif (column.dt.date == pd.Timestamp('now')).all():\n",
    "        print('this is a time column')"
   ]
  },
  {
   "cell_type": "code",
   "execution_count": 9,
   "metadata": {},
   "outputs": [
    {
     "data": {
      "text/plain": [
       "0     2016-01-03\n",
       "1     2016-01-04\n",
       "2     2016-01-05\n",
       "3     2016-01-06\n",
       "4     2016-01-07\n",
       "         ...    \n",
       "703   2018-10-14\n",
       "704   2018-10-15\n",
       "705   2018-10-16\n",
       "706   2018-10-17\n",
       "707   2018-10-18\n",
       "Name: Date, Length: 708, dtype: datetime64[ns]"
      ]
     },
     "execution_count": 9,
     "metadata": {},
     "output_type": "execute_result"
    }
   ],
   "source": [
    "column"
   ]
  },
  {
   "cell_type": "code",
   "execution_count": 14,
   "metadata": {},
   "outputs": [
    {
     "data": {
      "text/plain": [
       "True"
      ]
     },
     "execution_count": 14,
     "metadata": {},
     "output_type": "execute_result"
    }
   ],
   "source": [
    "(column.dt.floor('d') == column).all()"
   ]
  },
  {
   "cell_type": "code",
   "execution_count": 16,
   "metadata": {},
   "outputs": [
    {
     "data": {
      "text/plain": [
       "0     2016-01-03\n",
       "1     2016-01-04\n",
       "2     2016-01-05\n",
       "3     2016-01-06\n",
       "4     2016-01-07\n",
       "         ...    \n",
       "703   2018-10-14\n",
       "704   2018-10-15\n",
       "705   2018-10-16\n",
       "706   2018-10-17\n",
       "707   2018-10-18\n",
       "Name: Date, Length: 708, dtype: datetime64[ns]"
      ]
     },
     "execution_count": 16,
     "metadata": {},
     "output_type": "execute_result"
    }
   ],
   "source": [
    "column"
   ]
  },
  {
   "cell_type": "code",
   "execution_count": 21,
   "metadata": {},
   "outputs": [
    {
     "data": {
      "text/plain": [
       "False"
      ]
     },
     "execution_count": 21,
     "metadata": {},
     "output_type": "execute_result"
    }
   ],
   "source": [
    "(column.dt.date == pd.Timestamp('now')).all()"
   ]
  }
 ],
 "metadata": {
  "kernelspec": {
   "display_name": "Python 3",
   "language": "python",
   "name": "python3"
  },
  "language_info": {
   "codemirror_mode": {
    "name": "ipython",
    "version": 3
   },
   "file_extension": ".py",
   "mimetype": "text/x-python",
   "name": "python",
   "nbconvert_exporter": "python",
   "pygments_lexer": "ipython3",
   "version": "3.7.6"
  }
 },
 "nbformat": 4,
 "nbformat_minor": 4
}
