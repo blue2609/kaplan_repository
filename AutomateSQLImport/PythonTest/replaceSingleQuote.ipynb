{
 "cells": [
  {
   "cell_type": "code",
   "execution_count": 120,
   "metadata": {},
   "outputs": [],
   "source": [
    "testString = 'C:\\ \\n Windows'"
   ]
  },
  {
   "cell_type": "code",
   "execution_count": 122,
   "metadata": {},
   "outputs": [
    {
     "data": {
      "text/plain": [
       "'C:\\\\ \\n Windows'"
      ]
     },
     "execution_count": 122,
     "metadata": {},
     "output_type": "execute_result"
    }
   ],
   "source": [
    "testString"
   ]
  },
  {
   "cell_type": "code",
   "execution_count": 42,
   "metadata": {},
   "outputs": [
    {
     "data": {
      "text/plain": [
       "\"some''String''\""
      ]
     },
     "execution_count": 42,
     "metadata": {},
     "output_type": "execute_result"
    }
   ],
   "source": [
    "testString.replace(r'\\'',r'\\'\\'')"
   ]
  },
  {
   "cell_type": "code",
   "execution_count": 3,
   "metadata": {},
   "outputs": [],
   "source": [
    "value = \"Some'thing\""
   ]
  },
  {
   "cell_type": "code",
   "execution_count": 4,
   "metadata": {},
   "outputs": [
    {
     "data": {
      "text/plain": [
       "\"Some''thing\""
      ]
     },
     "execution_count": 4,
     "metadata": {},
     "output_type": "execute_result"
    }
   ],
   "source": [
    "str(value).replace(\"'\",\"''\")"
   ]
  },
  {
   "cell_type": "code",
   "execution_count": 5,
   "metadata": {},
   "outputs": [],
   "source": [
    "test_list = [\"one\",\"two\",\"three\",\"Some'thing\"]"
   ]
  },
  {
   "cell_type": "code",
   "execution_count": 6,
   "metadata": {},
   "outputs": [
    {
     "data": {
      "text/plain": [
       "['one', 'two', 'three', \"Some''thing\"]"
      ]
     },
     "execution_count": 6,
     "metadata": {},
     "output_type": "execute_result"
    }
   ],
   "source": [
    "[str(value).replace(\"'\",\"''\") for value in test_list]"
   ]
  },
  {
   "cell_type": "code",
   "execution_count": 8,
   "metadata": {},
   "outputs": [],
   "source": [
    "import pandas as pd"
   ]
  },
  {
   "cell_type": "code",
   "execution_count": 96,
   "metadata": {},
   "outputs": [],
   "source": [
    "test_df = pd.DataFrame({'Column_1':['Stanley','Leonhard','Setiawan',None],\n",
    "                        'Column_2':['22','This is it','random',None],\n",
    "                        'Column_3':['11/22/2017','12/20/2018','09/05/2020',None],\n",
    "                        'Column_4':['10/27/2015','12/15/2016','10/31/2015',None]})\n",
    "\n",
    "test_df['Column_5'] = pd.Series(['Jan','Feb','Mar',None])\n",
    "test_df['Column_6'] = pd.Series(['January','February','March',None])\n",
    "test_df['Column_7'] = [22,None,'',None]\n",
    "test_df['Column_8'] = [3.5,0.05,999.4,None]\n",
    "test_df['Column_9'] = ['15:00','03:00','09:00',None]\n",
    "test_df['Column_10'] = ['   ',' stanley this ',' ',\"\\t\\n''some'String\"]"
   ]
  },
  {
   "cell_type": "code",
   "execution_count": 45,
   "metadata": {},
   "outputs": [],
   "source": [
    "def replaceSingleQuote(someString):\n",
    "    return someString.replace(\"'\",\"''\")"
   ]
  },
  {
   "cell_type": "code",
   "execution_count": 127,
   "metadata": {},
   "outputs": [],
   "source": [
    "def insertValuesQueryString(dbName,schema,tableName,dataframe):\n",
    "    \n",
    "    # get a list of columnNames from dataframe\n",
    "    columnNamesList = ','.join([f'\"{columnName}\"' for columnName in dataframe.columns]) \n",
    "    queryString = f'INSERT INTO {dbName}.{schema}.{tableName} ({columnNamesList}) \\n VALUES \\n' \n",
    "    \n",
    "    for index,*values in dataframe.itertuples():\n",
    "#         queryString += '(' + ','.join([f\"'{replaceSingleQuote(str(value))}'\" if str(value) != 'NULL' else 'NULL' \n",
    "#                                        for value in values]) + '),\\n'\n",
    "\n",
    "        queryString += '(' + ','.join([\"'\" + str(value).replace(\"'\",\"''\") + \"'\" \n",
    "                                       if str(value) != 'NULL' else 'NULL' \n",
    "                                       for value in values]) + '),\\n'\n",
    "#         if index == dataframe.index[-1]:\n",
    "#             queryString += '(' + ','.join([f\"'{str(value).replace()}'\" if str(value) != 'NULL' else 'NULL'\n",
    "#                                            for value in values]) + ')'\n",
    "#         else:\n",
    "#             queryString += '(' + ','.join([f\"'{str(value)}'\" if str(value) != 'NULL' else 'NULL' \n",
    "#                                            for value in values]) + '),\\n'\n",
    "    return queryString"
   ]
  },
  {
   "cell_type": "code",
   "execution_count": 17,
   "metadata": {},
   "outputs": [],
   "source": [
    "dbName = 'MBAN'\n",
    "schema = 'dbo'\n",
    "tableName = 'testTable'"
   ]
  },
  {
   "cell_type": "code",
   "execution_count": 125,
   "metadata": {},
   "outputs": [
    {
     "data": {
      "text/html": [
       "<div>\n",
       "<style scoped>\n",
       "    .dataframe tbody tr th:only-of-type {\n",
       "        vertical-align: middle;\n",
       "    }\n",
       "\n",
       "    .dataframe tbody tr th {\n",
       "        vertical-align: top;\n",
       "    }\n",
       "\n",
       "    .dataframe thead th {\n",
       "        text-align: right;\n",
       "    }\n",
       "</style>\n",
       "<table border=\"1\" class=\"dataframe\">\n",
       "  <thead>\n",
       "    <tr style=\"text-align: right;\">\n",
       "      <th></th>\n",
       "      <th>Column_1</th>\n",
       "      <th>Column_2</th>\n",
       "      <th>Column_3</th>\n",
       "      <th>Column_4</th>\n",
       "      <th>Column_5</th>\n",
       "      <th>Column_6</th>\n",
       "      <th>Column_7</th>\n",
       "      <th>Column_8</th>\n",
       "      <th>Column_9</th>\n",
       "      <th>Column_10</th>\n",
       "    </tr>\n",
       "  </thead>\n",
       "  <tbody>\n",
       "    <tr>\n",
       "      <th>0</th>\n",
       "      <td>Stanley</td>\n",
       "      <td>22</td>\n",
       "      <td>11/22/2017</td>\n",
       "      <td>10/27/2015</td>\n",
       "      <td>Jan</td>\n",
       "      <td>January</td>\n",
       "      <td>22</td>\n",
       "      <td>3.5</td>\n",
       "      <td>15:00</td>\n",
       "      <td>NULL</td>\n",
       "    </tr>\n",
       "    <tr>\n",
       "      <th>1</th>\n",
       "      <td>Leonhard</td>\n",
       "      <td>This is it</td>\n",
       "      <td>12/20/2018</td>\n",
       "      <td>12/15/2016</td>\n",
       "      <td>Feb</td>\n",
       "      <td>February</td>\n",
       "      <td>NULL</td>\n",
       "      <td>0.05</td>\n",
       "      <td>03:00</td>\n",
       "      <td>stanley this</td>\n",
       "    </tr>\n",
       "    <tr>\n",
       "      <th>2</th>\n",
       "      <td>Setiawan</td>\n",
       "      <td>random</td>\n",
       "      <td>09/05/2020</td>\n",
       "      <td>10/31/2015</td>\n",
       "      <td>Mar</td>\n",
       "      <td>March</td>\n",
       "      <td>NULL</td>\n",
       "      <td>999.4</td>\n",
       "      <td>09:00</td>\n",
       "      <td>NULL</td>\n",
       "    </tr>\n",
       "    <tr>\n",
       "      <th>3</th>\n",
       "      <td>NULL</td>\n",
       "      <td>NULL</td>\n",
       "      <td>NULL</td>\n",
       "      <td>NULL</td>\n",
       "      <td>NULL</td>\n",
       "      <td>NULL</td>\n",
       "      <td>NULL</td>\n",
       "      <td>NULL</td>\n",
       "      <td>NULL</td>\n",
       "      <td>\\t\\n''some'String</td>\n",
       "    </tr>\n",
       "  </tbody>\n",
       "</table>\n",
       "</div>"
      ],
      "text/plain": [
       "   Column_1    Column_2    Column_3    Column_4 Column_5  Column_6 Column_7  \\\n",
       "0   Stanley          22  11/22/2017  10/27/2015      Jan   January       22   \n",
       "1  Leonhard  This is it  12/20/2018  12/15/2016      Feb  February     NULL   \n",
       "2  Setiawan      random  09/05/2020  10/31/2015      Mar     March     NULL   \n",
       "3      NULL        NULL        NULL        NULL     NULL      NULL     NULL   \n",
       "\n",
       "  Column_8 Column_9          Column_10  \n",
       "0      3.5    15:00               NULL  \n",
       "1     0.05    03:00      stanley this   \n",
       "2    999.4    09:00               NULL  \n",
       "3     NULL     NULL  \\t\\n''some'String  "
      ]
     },
     "execution_count": 125,
     "metadata": {},
     "output_type": "execute_result"
    }
   ],
   "source": [
    "test_df"
   ]
  },
  {
   "cell_type": "code",
   "execution_count": 124,
   "metadata": {},
   "outputs": [
    {
     "name": "stdout",
     "output_type": "stream",
     "text": [
      "INSERT INTO MBAN.dbo.testTable (\"Column_1\",\"Column_2\",\"Column_3\",\"Column_4\",\"Column_5\",\"Column_6\",\"Column_7\",\"Column_8\",\"Column_9\",\"Column_10\") \n",
      " VALUES \n",
      "('Stanley','22','11/22/2017','10/27/2015','Jan','January','22','3.5','15:00',NULL),\n",
      "('Leonhard','This is it','12/20/2018','12/15/2016','Feb','February',NULL,'0.05','03:00',' stanley this '),\n",
      "('Setiawan','random','09/05/2020','10/31/2015','Mar','March',NULL,'999.4','09:00',NULL),\n",
      "(NULL,NULL,NULL,NULL,NULL,NULL,NULL,NULL,NULL,'\t\n",
      "''''some''String'),\n",
      "\n"
     ]
    }
   ],
   "source": [
    "print(insertValuesQueryString(dbName,schema,tableName,test_df))"
   ]
  },
  {
   "cell_type": "code",
   "execution_count": 21,
   "metadata": {},
   "outputs": [
    {
     "name": "stdout",
     "output_type": "stream",
     "text": [
      "0 ['Stanley', '22', '11/22/2017', '10/27/2015', 'Jan', 'January', 22, 3.5, '15:00', '   ']\n",
      "1 ['Leonhard', 'This is it', '12/20/2018', '12/15/2016', 'Feb', 'February', None, 0.05, '03:00', ' stanley this ']\n",
      "2 ['Setiawan', 'random', '09/05/2020', '10/31/2015', 'Mar', 'March', '', 999.4, '09:00', ' ']\n",
      "3 [None, None, None, None, None, None, None, nan, None, \"some'String\"]\n"
     ]
    }
   ],
   "source": [
    "for index, *values in test_df.itertuples():\n",
    "    print(index,values)"
   ]
  },
  {
   "cell_type": "code",
   "execution_count": 92,
   "metadata": {},
   "outputs": [
    {
     "ename": "SyntaxError",
     "evalue": "EOL while scanning string literal (<ipython-input-92-84352fdd17be>, line 1)",
     "output_type": "error",
     "traceback": [
      "\u001b[1;36m  File \u001b[1;32m\"<ipython-input-92-84352fdd17be>\"\u001b[1;36m, line \u001b[1;32m1\u001b[0m\n\u001b[1;33m    print(r'\\')\u001b[0m\n\u001b[1;37m               ^\u001b[0m\n\u001b[1;31mSyntaxError\u001b[0m\u001b[1;31m:\u001b[0m EOL while scanning string literal\n"
     ]
    }
   ],
   "source": [
    "print(r'\\')"
   ]
  },
  {
   "cell_type": "code",
   "execution_count": 95,
   "metadata": {},
   "outputs": [
    {
     "ename": "SyntaxError",
     "evalue": "EOL while scanning string literal (<ipython-input-95-cf3b6d4d7daf>, line 1)",
     "output_type": "error",
     "traceback": [
      "\u001b[1;36m  File \u001b[1;32m\"<ipython-input-95-cf3b6d4d7daf>\"\u001b[1;36m, line \u001b[1;32m1\u001b[0m\n\u001b[1;33m    test_string = r'\\'\u001b[0m\n\u001b[1;37m                      ^\u001b[0m\n\u001b[1;31mSyntaxError\u001b[0m\u001b[1;31m:\u001b[0m EOL while scanning string literal\n"
     ]
    }
   ],
   "source": [
    "test_string = r'\\'"
   ]
  },
  {
   "cell_type": "code",
   "execution_count": 100,
   "metadata": {},
   "outputs": [],
   "source": [
    "import numpy as np"
   ]
  },
  {
   "cell_type": "code",
   "execution_count": 101,
   "metadata": {},
   "outputs": [
    {
     "name": "stderr",
     "output_type": "stream",
     "text": [
      "C:\\ProgramData\\Anaconda3\\lib\\site-packages\\pandas\\core\\ops\\array_ops.py:253: FutureWarning: elementwise comparison failed; returning scalar instead, but in the future will perform elementwise comparison\n",
      "  res_values = method(rvalues)\n"
     ]
    }
   ],
   "source": [
    "indexes = np.where((test_df.isna()) |  \n",
    "                    (test_df == '') |\n",
    "                    (test_df.apply(lambda row: row.str.isspace(), axis = 1)))\n",
    "\n",
    "for rowNum,colNum in zip(indexes[0],indexes[1]):\n",
    "    test_df.iloc[rowNum,colNum] = 'NULL'"
   ]
  },
  {
   "cell_type": "code",
   "execution_count": 102,
   "metadata": {},
   "outputs": [
    {
     "data": {
      "text/html": [
       "<div>\n",
       "<style scoped>\n",
       "    .dataframe tbody tr th:only-of-type {\n",
       "        vertical-align: middle;\n",
       "    }\n",
       "\n",
       "    .dataframe tbody tr th {\n",
       "        vertical-align: top;\n",
       "    }\n",
       "\n",
       "    .dataframe thead th {\n",
       "        text-align: right;\n",
       "    }\n",
       "</style>\n",
       "<table border=\"1\" class=\"dataframe\">\n",
       "  <thead>\n",
       "    <tr style=\"text-align: right;\">\n",
       "      <th></th>\n",
       "      <th>Column_1</th>\n",
       "      <th>Column_2</th>\n",
       "      <th>Column_3</th>\n",
       "      <th>Column_4</th>\n",
       "      <th>Column_5</th>\n",
       "      <th>Column_6</th>\n",
       "      <th>Column_7</th>\n",
       "      <th>Column_8</th>\n",
       "      <th>Column_9</th>\n",
       "      <th>Column_10</th>\n",
       "    </tr>\n",
       "  </thead>\n",
       "  <tbody>\n",
       "    <tr>\n",
       "      <th>0</th>\n",
       "      <td>Stanley</td>\n",
       "      <td>22</td>\n",
       "      <td>11/22/2017</td>\n",
       "      <td>10/27/2015</td>\n",
       "      <td>Jan</td>\n",
       "      <td>January</td>\n",
       "      <td>22</td>\n",
       "      <td>3.5</td>\n",
       "      <td>15:00</td>\n",
       "      <td>NULL</td>\n",
       "    </tr>\n",
       "    <tr>\n",
       "      <th>1</th>\n",
       "      <td>Leonhard</td>\n",
       "      <td>This is it</td>\n",
       "      <td>12/20/2018</td>\n",
       "      <td>12/15/2016</td>\n",
       "      <td>Feb</td>\n",
       "      <td>February</td>\n",
       "      <td>NULL</td>\n",
       "      <td>0.05</td>\n",
       "      <td>03:00</td>\n",
       "      <td>stanley this</td>\n",
       "    </tr>\n",
       "    <tr>\n",
       "      <th>2</th>\n",
       "      <td>Setiawan</td>\n",
       "      <td>random</td>\n",
       "      <td>09/05/2020</td>\n",
       "      <td>10/31/2015</td>\n",
       "      <td>Mar</td>\n",
       "      <td>March</td>\n",
       "      <td>NULL</td>\n",
       "      <td>999.4</td>\n",
       "      <td>09:00</td>\n",
       "      <td>NULL</td>\n",
       "    </tr>\n",
       "    <tr>\n",
       "      <th>3</th>\n",
       "      <td>NULL</td>\n",
       "      <td>NULL</td>\n",
       "      <td>NULL</td>\n",
       "      <td>NULL</td>\n",
       "      <td>NULL</td>\n",
       "      <td>NULL</td>\n",
       "      <td>NULL</td>\n",
       "      <td>NULL</td>\n",
       "      <td>NULL</td>\n",
       "      <td>\\t\\n''some'String</td>\n",
       "    </tr>\n",
       "  </tbody>\n",
       "</table>\n",
       "</div>"
      ],
      "text/plain": [
       "   Column_1    Column_2    Column_3    Column_4 Column_5  Column_6 Column_7  \\\n",
       "0   Stanley          22  11/22/2017  10/27/2015      Jan   January       22   \n",
       "1  Leonhard  This is it  12/20/2018  12/15/2016      Feb  February     NULL   \n",
       "2  Setiawan      random  09/05/2020  10/31/2015      Mar     March     NULL   \n",
       "3      NULL        NULL        NULL        NULL     NULL      NULL     NULL   \n",
       "\n",
       "  Column_8 Column_9          Column_10  \n",
       "0      3.5    15:00               NULL  \n",
       "1     0.05    03:00      stanley this   \n",
       "2    999.4    09:00               NULL  \n",
       "3     NULL     NULL  \\t\\n''some'String  "
      ]
     },
     "execution_count": 102,
     "metadata": {},
     "output_type": "execute_result"
    }
   ],
   "source": [
    "test_df"
   ]
  },
  {
   "cell_type": "code",
   "execution_count": 103,
   "metadata": {},
   "outputs": [
    {
     "name": "stdout",
     "output_type": "stream",
     "text": [
      "INSERT INTO MBAN.dbo.testTable (\"Column_1\",\"Column_2\",\"Column_3\",\"Column_4\",\"Column_5\",\"Column_6\",\"Column_7\",\"Column_8\",\"Column_9\",\"Column_10\") \n",
      " VALUES \n",
      "('Stanley','22','11/22/2017','10/27/2015','Jan','January','22','3.5','15:00',NULL),\n",
      "('Leonhard','This is it','12/20/2018','12/15/2016','Feb','February',NULL,'0.05','03:00',' stanley this '),\n",
      "('Setiawan','random','09/05/2020','10/31/2015','Mar','March',NULL,'999.4','09:00',NULL),\n",
      "(NULL,NULL,NULL,NULL,NULL,NULL,NULL,NULL,NULL,'\t\n",
      "''''some''String'),\n",
      "\n"
     ]
    }
   ],
   "source": [
    "print(insertValuesQueryString(dbName,schema,tableName,test_df))"
   ]
  },
  {
   "cell_type": "code",
   "execution_count": 128,
   "metadata": {},
   "outputs": [],
   "source": [
    "anotherString = '\\n \\n \\t someString'"
   ]
  },
  {
   "cell_type": "code",
   "execution_count": 129,
   "metadata": {},
   "outputs": [
    {
     "data": {
      "text/plain": [
       "'\\n \\n \\t someString'"
      ]
     },
     "execution_count": 129,
     "metadata": {},
     "output_type": "execute_result"
    }
   ],
   "source": [
    "anotherString"
   ]
  },
  {
   "cell_type": "code",
   "execution_count": 130,
   "metadata": {},
   "outputs": [
    {
     "name": "stdout",
     "output_type": "stream",
     "text": [
      "\n",
      " \n",
      " \t someString\n"
     ]
    }
   ],
   "source": [
    "print(anotherString)"
   ]
  },
  {
   "cell_type": "code",
   "execution_count": 132,
   "metadata": {},
   "outputs": [
    {
     "data": {
      "text/plain": [
       "['\\n',\n",
       " ' ',\n",
       " '\\n',\n",
       " ' ',\n",
       " '\\t',\n",
       " ' ',\n",
       " 's',\n",
       " 'o',\n",
       " 'm',\n",
       " 'e',\n",
       " 'S',\n",
       " 't',\n",
       " 'r',\n",
       " 'i',\n",
       " 'n',\n",
       " 'g']"
      ]
     },
     "execution_count": 132,
     "metadata": {},
     "output_type": "execute_result"
    }
   ],
   "source": [
    "[character for character in anotherString]"
   ]
  },
  {
   "cell_type": "code",
   "execution_count": 135,
   "metadata": {},
   "outputs": [
    {
     "name": "stdout",
     "output_type": "stream",
     "text": [
      "\\n\\t\n"
     ]
    }
   ],
   "source": [
    "print(r'\\n' + r'\\t')"
   ]
  },
  {
   "cell_type": "code",
   "execution_count": 152,
   "metadata": {},
   "outputs": [
    {
     "name": "stdout",
     "output_type": "stream",
     "text": [
      "AU\\norman.bates\n"
     ]
    }
   ],
   "source": [
    "print('AU\\\\norman.bates')"
   ]
  },
  {
   "cell_type": "code",
   "execution_count": 154,
   "metadata": {},
   "outputs": [
    {
     "name": "stdout",
     "output_type": "stream",
     "text": [
      "c:/programfiles/n'\n"
     ]
    }
   ],
   "source": [
    "print('c:/programfiles/n\\'')"
   ]
  },
  {
   "cell_type": "code",
   "execution_count": 191,
   "metadata": {},
   "outputs": [],
   "source": [
    "testString = 'c:\\\\programfiles\\n\\''"
   ]
  },
  {
   "cell_type": "code",
   "execution_count": 192,
   "metadata": {},
   "outputs": [
    {
     "name": "stdout",
     "output_type": "stream",
     "text": [
      "c:\\programfiles\n",
      "'\n"
     ]
    }
   ],
   "source": [
    "print(testString)"
   ]
  },
  {
   "cell_type": "code",
   "execution_count": 193,
   "metadata": {},
   "outputs": [
    {
     "name": "stdout",
     "output_type": "stream",
     "text": [
      "c:\\\\programfiles\n",
      "''\n"
     ]
    }
   ],
   "source": [
    "\n",
    "translationTable = testString.maketrans({\"\\\\\":\"\\\\\\\\\",\n",
    "                                          \"'\":\"''\"})\n",
    "transformedString = testString.translate(translationTable)\n",
    "print(transformedString)\n"
   ]
  },
  {
   "cell_type": "code",
   "execution_count": 198,
   "metadata": {},
   "outputs": [
    {
     "name": "stdout",
     "output_type": "stream",
     "text": [
      "c:\\programfiles\n",
      "'\n"
     ]
    }
   ],
   "source": [
    "print(testString.replace('\\+','\\\\'))"
   ]
  },
  {
   "cell_type": "code",
   "execution_count": 199,
   "metadata": {},
   "outputs": [
    {
     "data": {
      "text/plain": [
       "\"c:\\\\programfiles\\n'\""
      ]
     },
     "execution_count": 199,
     "metadata": {},
     "output_type": "execute_result"
    }
   ],
   "source": [
    "testString"
   ]
  },
  {
   "cell_type": "code",
   "execution_count": 203,
   "metadata": {},
   "outputs": [
    {
     "name": "stdout",
     "output_type": "stream",
     "text": [
      "\"c:\\\\programfiles\\n'\"\n"
     ]
    }
   ],
   "source": [
    "print(repr(testString))"
   ]
  },
  {
   "cell_type": "code",
   "execution_count": 223,
   "metadata": {},
   "outputs": [],
   "source": [
    "another_string = 'C:\\\\Windowsx\\\\\\nstanley'"
   ]
  },
  {
   "cell_type": "code",
   "execution_count": 216,
   "metadata": {},
   "outputs": [
    {
     "ename": "SyntaxError",
     "evalue": "EOL while scanning string literal (<ipython-input-216-ab519461dc4d>, line 1)",
     "output_type": "error",
     "traceback": [
      "\u001b[1;36m  File \u001b[1;32m\"<ipython-input-216-ab519461dc4d>\"\u001b[1;36m, line \u001b[1;32m1\u001b[0m\n\u001b[1;33m    print(r'C:\\\\Windows\\Users\\alexb\\')\u001b[0m\n\u001b[1;37m                                      ^\u001b[0m\n\u001b[1;31mSyntaxError\u001b[0m\u001b[1;31m:\u001b[0m EOL while scanning string literal\n"
     ]
    }
   ],
   "source": [
    "print(r'C:\\\\Windows\\Users\\alexb\\')"
   ]
  },
  {
   "cell_type": "code",
   "execution_count": 224,
   "metadata": {},
   "outputs": [
    {
     "data": {
      "text/plain": [
       "'C:\\\\Windowsx\\\\\\nstanley'"
      ]
     },
     "execution_count": 224,
     "metadata": {},
     "output_type": "execute_result"
    }
   ],
   "source": [
    "another_string"
   ]
  },
  {
   "cell_type": "code",
   "execution_count": 225,
   "metadata": {},
   "outputs": [
    {
     "name": "stdout",
     "output_type": "stream",
     "text": [
      "C:\\Windowsx\\\n",
      "stanley\n"
     ]
    }
   ],
   "source": [
    "print(another_string)"
   ]
  },
  {
   "cell_type": "code",
   "execution_count": 226,
   "metadata": {},
   "outputs": [
    {
     "name": "stdout",
     "output_type": "stream",
     "text": [
      "C:\\Windowsx\\\n",
      "stanley\n"
     ]
    }
   ],
   "source": [
    "print(r'%s' %another_string)"
   ]
  },
  {
   "cell_type": "code",
   "execution_count": null,
   "metadata": {},
   "outputs": [],
   "source": [
    "another_"
   ]
  },
  {
   "cell_type": "code",
   "execution_count": 230,
   "metadata": {},
   "outputs": [],
   "source": [
    "raw_string = r\"{}\".format(another_string)"
   ]
  },
  {
   "cell_type": "code",
   "execution_count": 233,
   "metadata": {},
   "outputs": [
    {
     "data": {
      "text/plain": [
       "'C:\\\\Windowsx\\\\\\nstanley'"
      ]
     },
     "execution_count": 233,
     "metadata": {},
     "output_type": "execute_result"
    }
   ],
   "source": [
    "another_string"
   ]
  },
  {
   "cell_type": "code",
   "execution_count": 238,
   "metadata": {},
   "outputs": [
    {
     "data": {
      "text/plain": [
       "['C',\n",
       " ':',\n",
       " '\\\\',\n",
       " 'W',\n",
       " 'i',\n",
       " 'n',\n",
       " 'd',\n",
       " 'o',\n",
       " 'w',\n",
       " 's',\n",
       " 'x',\n",
       " '\\\\',\n",
       " '\\n',\n",
       " 's',\n",
       " 't',\n",
       " 'a',\n",
       " 'n',\n",
       " 'l',\n",
       " 'e',\n",
       " 'y']"
      ]
     },
     "execution_count": 238,
     "metadata": {},
     "output_type": "execute_result"
    }
   ],
   "source": [
    "[character.replace('') for character in another_string]"
   ]
  },
  {
   "cell_type": "code",
   "execution_count": 240,
   "metadata": {},
   "outputs": [],
   "source": [
    "test_df.to_csv('test_df',index=False)"
   ]
  },
  {
   "cell_type": "code",
   "execution_count": 241,
   "metadata": {},
   "outputs": [
    {
     "data": {
      "text/html": [
       "<div>\n",
       "<style scoped>\n",
       "    .dataframe tbody tr th:only-of-type {\n",
       "        vertical-align: middle;\n",
       "    }\n",
       "\n",
       "    .dataframe tbody tr th {\n",
       "        vertical-align: top;\n",
       "    }\n",
       "\n",
       "    .dataframe thead th {\n",
       "        text-align: right;\n",
       "    }\n",
       "</style>\n",
       "<table border=\"1\" class=\"dataframe\">\n",
       "  <thead>\n",
       "    <tr style=\"text-align: right;\">\n",
       "      <th></th>\n",
       "      <th>Column_1</th>\n",
       "      <th>Column_2</th>\n",
       "      <th>Column_3</th>\n",
       "      <th>Column_4</th>\n",
       "      <th>Column_5</th>\n",
       "      <th>Column_6</th>\n",
       "      <th>Column_7</th>\n",
       "      <th>Column_8</th>\n",
       "      <th>Column_9</th>\n",
       "      <th>Column_10</th>\n",
       "    </tr>\n",
       "  </thead>\n",
       "  <tbody>\n",
       "    <tr>\n",
       "      <th>0</th>\n",
       "      <td>Stanley</td>\n",
       "      <td>22</td>\n",
       "      <td>11/22/2017</td>\n",
       "      <td>10/27/2015</td>\n",
       "      <td>Jan</td>\n",
       "      <td>January</td>\n",
       "      <td>22</td>\n",
       "      <td>3.5</td>\n",
       "      <td>15:00</td>\n",
       "      <td>NULL</td>\n",
       "    </tr>\n",
       "    <tr>\n",
       "      <th>1</th>\n",
       "      <td>Leonhard</td>\n",
       "      <td>This is it</td>\n",
       "      <td>12/20/2018</td>\n",
       "      <td>12/15/2016</td>\n",
       "      <td>Feb</td>\n",
       "      <td>February</td>\n",
       "      <td>NULL</td>\n",
       "      <td>0.05</td>\n",
       "      <td>03:00</td>\n",
       "      <td>stanley this</td>\n",
       "    </tr>\n",
       "    <tr>\n",
       "      <th>2</th>\n",
       "      <td>Setiawan</td>\n",
       "      <td>random</td>\n",
       "      <td>09/05/2020</td>\n",
       "      <td>10/31/2015</td>\n",
       "      <td>Mar</td>\n",
       "      <td>March</td>\n",
       "      <td>NULL</td>\n",
       "      <td>999.4</td>\n",
       "      <td>09:00</td>\n",
       "      <td>NULL</td>\n",
       "    </tr>\n",
       "    <tr>\n",
       "      <th>3</th>\n",
       "      <td>NULL</td>\n",
       "      <td>NULL</td>\n",
       "      <td>NULL</td>\n",
       "      <td>NULL</td>\n",
       "      <td>NULL</td>\n",
       "      <td>NULL</td>\n",
       "      <td>NULL</td>\n",
       "      <td>NULL</td>\n",
       "      <td>NULL</td>\n",
       "      <td>\\t\\n''some'String</td>\n",
       "    </tr>\n",
       "  </tbody>\n",
       "</table>\n",
       "</div>"
      ],
      "text/plain": [
       "   Column_1    Column_2    Column_3    Column_4 Column_5  Column_6 Column_7  \\\n",
       "0   Stanley          22  11/22/2017  10/27/2015      Jan   January       22   \n",
       "1  Leonhard  This is it  12/20/2018  12/15/2016      Feb  February     NULL   \n",
       "2  Setiawan      random  09/05/2020  10/31/2015      Mar     March     NULL   \n",
       "3      NULL        NULL        NULL        NULL     NULL      NULL     NULL   \n",
       "\n",
       "  Column_8 Column_9          Column_10  \n",
       "0      3.5    15:00               NULL  \n",
       "1     0.05    03:00      stanley this   \n",
       "2    999.4    09:00               NULL  \n",
       "3     NULL     NULL  \\t\\n''some'String  "
      ]
     },
     "execution_count": 241,
     "metadata": {},
     "output_type": "execute_result"
    }
   ],
   "source": [
    "test_df"
   ]
  },
  {
   "cell_type": "code",
   "execution_count": 242,
   "metadata": {},
   "outputs": [],
   "source": [
    "another_df = pd.read_csv('test.csv')"
   ]
  },
  {
   "cell_type": "code",
   "execution_count": 243,
   "metadata": {},
   "outputs": [
    {
     "data": {
      "text/html": [
       "<div>\n",
       "<style scoped>\n",
       "    .dataframe tbody tr th:only-of-type {\n",
       "        vertical-align: middle;\n",
       "    }\n",
       "\n",
       "    .dataframe tbody tr th {\n",
       "        vertical-align: top;\n",
       "    }\n",
       "\n",
       "    .dataframe thead th {\n",
       "        text-align: right;\n",
       "    }\n",
       "</style>\n",
       "<table border=\"1\" class=\"dataframe\">\n",
       "  <thead>\n",
       "    <tr style=\"text-align: right;\">\n",
       "      <th></th>\n",
       "      <th>Column_1</th>\n",
       "      <th>Column_2</th>\n",
       "      <th>Column_3</th>\n",
       "      <th>Column_4</th>\n",
       "      <th>Column_5</th>\n",
       "      <th>Column_6</th>\n",
       "      <th>Column_7</th>\n",
       "      <th>Column_8</th>\n",
       "    </tr>\n",
       "  </thead>\n",
       "  <tbody>\n",
       "    <tr>\n",
       "      <th>0</th>\n",
       "      <td>Stanley</td>\n",
       "      <td>22</td>\n",
       "      <td>11/22/2017</td>\n",
       "      <td>10/27/2015</td>\n",
       "      <td>Jan</td>\n",
       "      <td>January</td>\n",
       "      <td>22</td>\n",
       "      <td>3.50</td>\n",
       "    </tr>\n",
       "    <tr>\n",
       "      <th>1</th>\n",
       "      <td>Leonhard</td>\n",
       "      <td>This is it</td>\n",
       "      <td>12/20/2018</td>\n",
       "      <td>12/15/2016</td>\n",
       "      <td>Feb</td>\n",
       "      <td>February</td>\n",
       "      <td>25</td>\n",
       "      <td>0.05</td>\n",
       "    </tr>\n",
       "    <tr>\n",
       "      <th>2</th>\n",
       "      <td>Setiawwan</td>\n",
       "      <td>random</td>\n",
       "      <td>09/05/2020</td>\n",
       "      <td>27/10/2015</td>\n",
       "      <td>Mar</td>\n",
       "      <td>March</td>\n",
       "      <td>\\t \\n stanley'setiawan</td>\n",
       "      <td>999.40</td>\n",
       "    </tr>\n",
       "  </tbody>\n",
       "</table>\n",
       "</div>"
      ],
      "text/plain": [
       "    Column_1    Column_2    Column_3    Column_4 Column_5  Column_6  \\\n",
       "0    Stanley          22  11/22/2017  10/27/2015      Jan   January   \n",
       "1   Leonhard  This is it  12/20/2018  12/15/2016      Feb  February   \n",
       "2  Setiawwan      random  09/05/2020  27/10/2015      Mar     March   \n",
       "\n",
       "                 Column_7  Column_8  \n",
       "0                      22      3.50  \n",
       "1                      25      0.05  \n",
       "2  \\t \\n stanley'setiawan    999.40  "
      ]
     },
     "execution_count": 243,
     "metadata": {},
     "output_type": "execute_result"
    }
   ],
   "source": [
    "another_df"
   ]
  },
  {
   "cell_type": "code",
   "execution_count": 246,
   "metadata": {},
   "outputs": [
    {
     "name": "stdout",
     "output_type": "stream",
     "text": [
      "\\t \\n stanley'setiawan\n"
     ]
    }
   ],
   "source": [
    "print(another_df.loc[2,'Column_7'])"
   ]
  },
  {
   "cell_type": "code",
   "execution_count": 247,
   "metadata": {},
   "outputs": [
    {
     "data": {
      "text/plain": [
       "\"\\\\t \\\\n stanley'setiawan\""
      ]
     },
     "execution_count": 247,
     "metadata": {},
     "output_type": "execute_result"
    }
   ],
   "source": [
    "another_df.loc[2,'Column_7']"
   ]
  },
  {
   "cell_type": "code",
   "execution_count": 250,
   "metadata": {},
   "outputs": [],
   "source": [
    "folderOwner = pd.DataFrame({'path':['C:\\ProgramFiles\\folder_1','C:\\ProgramData\\folder_2'],\n",
    "                           'owner':['stanley','Tony']})"
   ]
  },
  {
   "cell_type": "code",
   "execution_count": 252,
   "metadata": {},
   "outputs": [
    {
     "name": "stdout",
     "output_type": "stream",
     "text": [
      "                      path    owner\n",
      "0  C:\\ProgramFiles\f",
      "older_1  stanley\n",
      "1   C:\\ProgramData\f",
      "older_2     Tony\n"
     ]
    }
   ],
   "source": [
    "print(folderOwner)"
   ]
  },
  {
   "cell_type": "code",
   "execution_count": null,
   "metadata": {},
   "outputs": [],
   "source": []
  }
 ],
 "metadata": {
  "kernelspec": {
   "display_name": "Python 3",
   "language": "python",
   "name": "python3"
  },
  "language_info": {
   "codemirror_mode": {
    "name": "ipython",
    "version": 3
   },
   "file_extension": ".py",
   "mimetype": "text/x-python",
   "name": "python",
   "nbconvert_exporter": "python",
   "pygments_lexer": "ipython3",
   "version": "3.7.6"
  }
 },
 "nbformat": 4,
 "nbformat_minor": 4
}
