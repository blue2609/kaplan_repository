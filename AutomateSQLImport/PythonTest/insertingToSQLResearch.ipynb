{
 "cells": [
  {
   "cell_type": "code",
   "execution_count": 4,
   "metadata": {},
   "outputs": [],
   "source": [
    "import pandas as pd\n",
    "import numpy as np\n"
   ]
  },
  {
   "cell_type": "code",
   "execution_count": 5,
   "metadata": {},
   "outputs": [],
   "source": [
    "test_df = pd.DataFrame({'Column_1':['Stanley','Leonhard','Setiawan',None],\n",
    "                        'Column_2':['22','This is it','random',None],\n",
    "                        'Column_3':['11/22/2017','12/20/2018','09/05/2020',None],\n",
    "                        'Column_4':['10/27/2015','12/15/2016','10/31/2015',None]})\n",
    "\n",
    "test_df['Column_5'] = pd.Series(['Jan','Feb','Mar',None])\n",
    "test_df['Column_6'] = pd.Series(['January','February','March',None])\n",
    "test_df['Column_7'] = [22,None,'',None]\n",
    "test_df['Column_8'] = [3.5,0.05,999.4,None]\n",
    "test_df['Column_9'] = ['15:00','03:00','09:00',None]\n",
    "test_df['Column_10'] = ['   ',' stanley this ',' ',\"\\n \\n \\t some'String\"]"
   ]
  },
  {
   "cell_type": "code",
   "execution_count": 6,
   "metadata": {},
   "outputs": [
    {
     "data": {
      "text/html": [
       "<div>\n",
       "<style scoped>\n",
       "    .dataframe tbody tr th:only-of-type {\n",
       "        vertical-align: middle;\n",
       "    }\n",
       "\n",
       "    .dataframe tbody tr th {\n",
       "        vertical-align: top;\n",
       "    }\n",
       "\n",
       "    .dataframe thead th {\n",
       "        text-align: right;\n",
       "    }\n",
       "</style>\n",
       "<table border=\"1\" class=\"dataframe\">\n",
       "  <thead>\n",
       "    <tr style=\"text-align: right;\">\n",
       "      <th></th>\n",
       "      <th>Column_1</th>\n",
       "      <th>Column_2</th>\n",
       "      <th>Column_3</th>\n",
       "      <th>Column_4</th>\n",
       "      <th>Column_5</th>\n",
       "      <th>Column_6</th>\n",
       "      <th>Column_7</th>\n",
       "      <th>Column_8</th>\n",
       "      <th>Column_9</th>\n",
       "      <th>Column_10</th>\n",
       "    </tr>\n",
       "  </thead>\n",
       "  <tbody>\n",
       "    <tr>\n",
       "      <th>0</th>\n",
       "      <td>Stanley</td>\n",
       "      <td>22</td>\n",
       "      <td>11/22/2017</td>\n",
       "      <td>10/27/2015</td>\n",
       "      <td>Jan</td>\n",
       "      <td>January</td>\n",
       "      <td>22</td>\n",
       "      <td>3.50</td>\n",
       "      <td>15:00</td>\n",
       "      <td></td>\n",
       "    </tr>\n",
       "    <tr>\n",
       "      <th>1</th>\n",
       "      <td>Leonhard</td>\n",
       "      <td>This is it</td>\n",
       "      <td>12/20/2018</td>\n",
       "      <td>12/15/2016</td>\n",
       "      <td>Feb</td>\n",
       "      <td>February</td>\n",
       "      <td>None</td>\n",
       "      <td>0.05</td>\n",
       "      <td>03:00</td>\n",
       "      <td>stanley this</td>\n",
       "    </tr>\n",
       "    <tr>\n",
       "      <th>2</th>\n",
       "      <td>Setiawan</td>\n",
       "      <td>random</td>\n",
       "      <td>09/05/2020</td>\n",
       "      <td>10/31/2015</td>\n",
       "      <td>Mar</td>\n",
       "      <td>March</td>\n",
       "      <td></td>\n",
       "      <td>999.40</td>\n",
       "      <td>09:00</td>\n",
       "      <td></td>\n",
       "    </tr>\n",
       "    <tr>\n",
       "      <th>3</th>\n",
       "      <td>None</td>\n",
       "      <td>None</td>\n",
       "      <td>None</td>\n",
       "      <td>None</td>\n",
       "      <td>None</td>\n",
       "      <td>None</td>\n",
       "      <td>None</td>\n",
       "      <td>NaN</td>\n",
       "      <td>None</td>\n",
       "      <td>\\n \\n \\t some'String</td>\n",
       "    </tr>\n",
       "  </tbody>\n",
       "</table>\n",
       "</div>"
      ],
      "text/plain": [
       "   Column_1    Column_2    Column_3    Column_4 Column_5  Column_6 Column_7  \\\n",
       "0   Stanley          22  11/22/2017  10/27/2015      Jan   January       22   \n",
       "1  Leonhard  This is it  12/20/2018  12/15/2016      Feb  February     None   \n",
       "2  Setiawan      random  09/05/2020  10/31/2015      Mar     March            \n",
       "3      None        None        None        None     None      None     None   \n",
       "\n",
       "   Column_8 Column_9             Column_10  \n",
       "0      3.50    15:00                        \n",
       "1      0.05    03:00         stanley this   \n",
       "2    999.40    09:00                        \n",
       "3       NaN     None  \\n \\n \\t some'String  "
      ]
     },
     "execution_count": 6,
     "metadata": {},
     "output_type": "execute_result"
    }
   ],
   "source": [
    "test_df"
   ]
  },
  {
   "cell_type": "code",
   "execution_count": 8,
   "metadata": {},
   "outputs": [
    {
     "data": {
      "text/plain": [
       "[['Stanley',\n",
       "  '22',\n",
       "  '11/22/2017',\n",
       "  '10/27/2015',\n",
       "  'Jan',\n",
       "  'January',\n",
       "  22,\n",
       "  3.5,\n",
       "  '15:00',\n",
       "  '   '],\n",
       " ['Leonhard',\n",
       "  'This is it',\n",
       "  '12/20/2018',\n",
       "  '12/15/2016',\n",
       "  'Feb',\n",
       "  'February',\n",
       "  None,\n",
       "  0.05,\n",
       "  '03:00',\n",
       "  ' stanley this '],\n",
       " ['Setiawan',\n",
       "  'random',\n",
       "  '09/05/2020',\n",
       "  '10/31/2015',\n",
       "  'Mar',\n",
       "  'March',\n",
       "  '',\n",
       "  999.4,\n",
       "  '09:00',\n",
       "  ' '],\n",
       " [None, None, None, None, None, None, None, nan, None, \"\\n \\n \\t some'String\"]]"
      ]
     },
     "execution_count": 8,
     "metadata": {},
     "output_type": "execute_result"
    }
   ],
   "source": [
    "test_df.values.tolist()"
   ]
  }
 ],
 "metadata": {
  "kernelspec": {
   "display_name": "Python 3",
   "language": "python",
   "name": "python3"
  },
  "language_info": {
   "codemirror_mode": {
    "name": "ipython",
    "version": 3
   },
   "file_extension": ".py",
   "mimetype": "text/x-python",
   "name": "python",
   "nbconvert_exporter": "python",
   "pygments_lexer": "ipython3",
   "version": "3.7.6"
  }
 },
 "nbformat": 4,
 "nbformat_minor": 4
}
