{
 "cells": [
  {
   "cell_type": "code",
   "execution_count": 3,
   "source": [
    "import os\r\n",
    "\r\n",
    "folderPath = \"C:/Users/Public/Documents/Datasets/DATA 4000\"\r\n",
    "if os.path.exists(folderPath):\r\n",
    "\tprint(os.listdir(folderPath))"
   ],
   "outputs": [
    {
     "output_type": "stream",
     "name": "stdout",
     "text": [
      "['books_uniq_weeks.csv', 'DATA4000 Topic 5 Fresh Fruit Consumption in the US -1980 to 2016.csv', 'DATA4000 Topic 5 Fresh Fruit Consumption in the US -1980 to 2016.xlsx', 'DATA4000_BostonMatrix.csv', 'DATA4000_BostonMatrix.xlsx', 'DATA4000_Dataset_Energy_WellData.xlsx', 'DATA4000_Energy_WellData.csv', 'DATA4000_Energy_WellData.xlsx', 'DATA4000_sorting_stocks.csv', 'DATA4000_sorting_stocks.xlsx', 'Emotions.csv', 'Examplefile1.txt', 'Financial_data.xlsx', 'Financial_data_in_csv_format', 'Myfolder']\n"
     ]
    }
   ],
   "metadata": {}
  },
  {
   "cell_type": "code",
   "execution_count": 5,
   "source": [
    "root,dirs,files = os.walk(folderPath)\r\n",
    "root,dirs,files"
   ],
   "outputs": [
    {
     "output_type": "execute_result",
     "data": {
      "text/plain": [
       "(('C:/Users/Public/Documents/Datasets/DATA 4000',\n",
       "  ['Financial_data_in_csv_format', 'Myfolder'],\n",
       "  ['books_uniq_weeks.csv',\n",
       "   'DATA4000 Topic 5 Fresh Fruit Consumption in the US -1980 to 2016.csv',\n",
       "   'DATA4000 Topic 5 Fresh Fruit Consumption in the US -1980 to 2016.xlsx',\n",
       "   'DATA4000_BostonMatrix.csv',\n",
       "   'DATA4000_BostonMatrix.xlsx',\n",
       "   'DATA4000_Dataset_Energy_WellData.xlsx',\n",
       "   'DATA4000_Energy_WellData.csv',\n",
       "   'DATA4000_Energy_WellData.xlsx',\n",
       "   'DATA4000_sorting_stocks.csv',\n",
       "   'DATA4000_sorting_stocks.xlsx',\n",
       "   'Emotions.csv',\n",
       "   'Examplefile1.txt',\n",
       "   'Financial_data.xlsx']),\n",
       " ('C:/Users/Public/Documents/Datasets/DATA 4000\\\\Financial_data_in_csv_format',\n",
       "  [],\n",
       "  ['Adj Close.csv', 'ASX200.csv', 'BHP.csv', 'RejectShop.csv']),\n",
       " ('C:/Users/Public/Documents/Datasets/DATA 4000\\\\Myfolder',\n",
       "  [],\n",
       "  ['Examplefile2.txt', 'Examplefile3.txt']))"
      ]
     },
     "metadata": {},
     "execution_count": 5
    }
   ],
   "metadata": {}
  },
  {
   "cell_type": "code",
   "execution_count": 35,
   "source": [
    "for currentPath,list_of_dirs,list_of_files in os.walk(folderPath):\r\n",
    "\t# print(\"----------------------------------------\")\r\n",
    "\t# print(currentPath,list_of_dirs,list_of_files)\r\n",
    "\t# print(\"----------------------------------------\")\r\n",
    "\r\n",
    "\tfor f in list_of_files:\r\n",
    "\t\tprint(f)"
   ],
   "outputs": [
    {
     "output_type": "stream",
     "name": "stdout",
     "text": [
      "books_uniq_weeks.csv\n",
      "DATA4000 Topic 5 Fresh Fruit Consumption in the US -1980 to 2016.csv\n",
      "DATA4000 Topic 5 Fresh Fruit Consumption in the US -1980 to 2016.xlsx\n",
      "DATA4000_BostonMatrix.csv\n",
      "DATA4000_BostonMatrix.xlsx\n",
      "DATA4000_Dataset_Energy_WellData.xlsx\n",
      "DATA4000_Energy_WellData.csv\n",
      "DATA4000_Energy_WellData.xlsx\n",
      "DATA4000_sorting_stocks.csv\n",
      "DATA4000_sorting_stocks.xlsx\n",
      "Emotions.csv\n",
      "Examplefile1.txt\n",
      "Financial_data.xlsx\n",
      "Adj Close.csv\n",
      "ASX200.csv\n",
      "BHP.csv\n",
      "RejectShop.csv\n",
      "textDocument.txt\n",
      "Examplefile2.txt\n",
      "Examplefile3.txt\n"
     ]
    }
   ],
   "metadata": {}
  },
  {
   "cell_type": "code",
   "execution_count": 37,
   "source": [
    "for root, dirs, files in os.walk(folderPath):\r\n",
    "\tprint([filename for filename in files])"
   ],
   "outputs": [
    {
     "output_type": "stream",
     "name": "stdout",
     "text": [
      "['books_uniq_weeks.csv', 'DATA4000 Topic 5 Fresh Fruit Consumption in the US -1980 to 2016.csv', 'DATA4000 Topic 5 Fresh Fruit Consumption in the US -1980 to 2016.xlsx', 'DATA4000_BostonMatrix.csv', 'DATA4000_BostonMatrix.xlsx', 'DATA4000_Dataset_Energy_WellData.xlsx', 'DATA4000_Energy_WellData.csv', 'DATA4000_Energy_WellData.xlsx', 'DATA4000_sorting_stocks.csv', 'DATA4000_sorting_stocks.xlsx', 'Emotions.csv', 'Examplefile1.txt', 'Financial_data.xlsx']\n",
      "['Adj Close.csv', 'ASX200.csv', 'BHP.csv', 'RejectShop.csv']\n",
      "['textDocument.txt']\n",
      "['Examplefile2.txt', 'Examplefile3.txt']\n"
     ]
    }
   ],
   "metadata": {}
  },
  {
   "cell_type": "code",
   "execution_count": 38,
   "source": [
    "os.path.isdir(folderPath)"
   ],
   "outputs": [
    {
     "output_type": "execute_result",
     "data": {
      "text/plain": [
       "True"
      ]
     },
     "metadata": {},
     "execution_count": 38
    }
   ],
   "metadata": {}
  },
  {
   "cell_type": "code",
   "execution_count": 42,
   "source": [
    "filePath = os.path.join(folderPath,'books_uniq_weeks.csv')\r\n",
    "# os.path.isdir(filePath)\r\n",
    "os.path.exists(filePath) and os.path.isdir(filePath)"
   ],
   "outputs": [
    {
     "output_type": "execute_result",
     "data": {
      "text/plain": [
       "False"
      ]
     },
     "metadata": {},
     "execution_count": 42
    }
   ],
   "metadata": {}
  },
  {
   "cell_type": "code",
   "execution_count": 44,
   "source": [
    "assert(os.path.isdir(filePath))"
   ],
   "outputs": [
    {
     "output_type": "error",
     "ename": "AssertionError",
     "evalue": "",
     "traceback": [
      "\u001b[1;31m---------------------------------------------------------------------------\u001b[0m",
      "\u001b[1;31mAssertionError\u001b[0m                            Traceback (most recent call last)",
      "\u001b[1;32m<ipython-input-44-65664e0b49d4>\u001b[0m in \u001b[0;36m<module>\u001b[1;34m\u001b[0m\n\u001b[1;32m----> 1\u001b[1;33m \u001b[1;32massert\u001b[0m\u001b[1;33m(\u001b[0m\u001b[0mos\u001b[0m\u001b[1;33m.\u001b[0m\u001b[0mpath\u001b[0m\u001b[1;33m.\u001b[0m\u001b[0misdir\u001b[0m\u001b[1;33m(\u001b[0m\u001b[0mfilePath\u001b[0m\u001b[1;33m)\u001b[0m\u001b[1;33m)\u001b[0m\u001b[1;33m\u001b[0m\u001b[1;33m\u001b[0m\u001b[0m\n\u001b[0m",
      "\u001b[1;31mAssertionError\u001b[0m: "
     ]
    }
   ],
   "metadata": {}
  },
  {
   "cell_type": "code",
   "execution_count": 49,
   "source": [
    "import re\r\n",
    "for currentPath,dir_list,file_list in os.walk(folderPath):\r\n",
    "\tfor fileName in file_list:\r\n",
    "\t\t# check if fileName ends in either:\r\n",
    "\t\t# - .xlsx\r\n",
    "\t\t# - .xls\r\n",
    "\t\t# - .csv\r\n",
    "\t\t# Basically we only want to detect excel and csv files\r\n",
    "\t\tif re.search('/.xlsx$|/.xls$',fileName):\r\n",
    "\t\t\tprint(os.path.join(currentPath,fileName))"
   ],
   "outputs": [
    {
     "output_type": "stream",
     "name": "stdout",
     "text": [
      "C:/Users/Public/Documents/Datasets/DATA 4000\\DATA4000 Topic 5 Fresh Fruit Consumption in the US -1980 to 2016.xlsx\n",
      "C:/Users/Public/Documents/Datasets/DATA 4000\\DATA4000_BostonMatrix.xlsx\n",
      "C:/Users/Public/Documents/Datasets/DATA 4000\\DATA4000_Dataset_Energy_WellData.xlsx\n",
      "C:/Users/Public/Documents/Datasets/DATA 4000\\DATA4000_Energy_WellData.xlsx\n",
      "C:/Users/Public/Documents/Datasets/DATA 4000\\DATA4000_sorting_stocks.xlsx\n",
      "C:/Users/Public/Documents/Datasets/DATA 4000\\Financial_data.xlsx\n"
     ]
    }
   ],
   "metadata": {}
  },
  {
   "cell_type": "code",
   "execution_count": 48,
   "source": [
    "import pandas as pd\r\n",
    "pd.read_csv('RejectShop.csv',encoding='latin')"
   ],
   "outputs": [
    {
     "output_type": "execute_result",
     "data": {
      "text/plain": [
       "           Date   Open   High     Low  Close  Adj Close   Volume\n",
       "0      1/3/2016  10.90  11.10  10.820  10.87   9.630605    66047\n",
       "1      1/4/2016  10.82  10.82  10.310  10.76   9.533148   123471\n",
       "2      1/5/2016  10.70  10.97  10.530  10.97   9.719204   118132\n",
       "3      1/6/2016  10.76  10.76  10.135  10.44   9.249632    96642\n",
       "4      1/7/2016  10.15  10.32  10.060  10.23   9.063578    52662\n",
       "..          ...    ...    ...     ...    ...        ...      ...\n",
       "704  10/14/2018   4.54   4.61   4.430   4.43   4.430000    54174\n",
       "705  10/15/2018   4.45   4.58   4.440   4.47   4.470000    48450\n",
       "706  10/16/2018   2.56   2.99   2.500   2.73   2.730000  3464982\n",
       "707  10/17/2018   2.78   2.85   2.600   2.63   2.630000  1296118\n",
       "708  10/18/2018   2.63   2.65   2.440   2.46   2.460000  1100105\n",
       "\n",
       "[709 rows x 7 columns]"
      ],
      "text/html": [
       "<div>\n",
       "<style scoped>\n",
       "    .dataframe tbody tr th:only-of-type {\n",
       "        vertical-align: middle;\n",
       "    }\n",
       "\n",
       "    .dataframe tbody tr th {\n",
       "        vertical-align: top;\n",
       "    }\n",
       "\n",
       "    .dataframe thead th {\n",
       "        text-align: right;\n",
       "    }\n",
       "</style>\n",
       "<table border=\"1\" class=\"dataframe\">\n",
       "  <thead>\n",
       "    <tr style=\"text-align: right;\">\n",
       "      <th></th>\n",
       "      <th>Date</th>\n",
       "      <th>Open</th>\n",
       "      <th>High</th>\n",
       "      <th>Low</th>\n",
       "      <th>Close</th>\n",
       "      <th>Adj Close</th>\n",
       "      <th>Volume</th>\n",
       "    </tr>\n",
       "  </thead>\n",
       "  <tbody>\n",
       "    <tr>\n",
       "      <th>0</th>\n",
       "      <td>1/3/2016</td>\n",
       "      <td>10.90</td>\n",
       "      <td>11.10</td>\n",
       "      <td>10.820</td>\n",
       "      <td>10.87</td>\n",
       "      <td>9.630605</td>\n",
       "      <td>66047</td>\n",
       "    </tr>\n",
       "    <tr>\n",
       "      <th>1</th>\n",
       "      <td>1/4/2016</td>\n",
       "      <td>10.82</td>\n",
       "      <td>10.82</td>\n",
       "      <td>10.310</td>\n",
       "      <td>10.76</td>\n",
       "      <td>9.533148</td>\n",
       "      <td>123471</td>\n",
       "    </tr>\n",
       "    <tr>\n",
       "      <th>2</th>\n",
       "      <td>1/5/2016</td>\n",
       "      <td>10.70</td>\n",
       "      <td>10.97</td>\n",
       "      <td>10.530</td>\n",
       "      <td>10.97</td>\n",
       "      <td>9.719204</td>\n",
       "      <td>118132</td>\n",
       "    </tr>\n",
       "    <tr>\n",
       "      <th>3</th>\n",
       "      <td>1/6/2016</td>\n",
       "      <td>10.76</td>\n",
       "      <td>10.76</td>\n",
       "      <td>10.135</td>\n",
       "      <td>10.44</td>\n",
       "      <td>9.249632</td>\n",
       "      <td>96642</td>\n",
       "    </tr>\n",
       "    <tr>\n",
       "      <th>4</th>\n",
       "      <td>1/7/2016</td>\n",
       "      <td>10.15</td>\n",
       "      <td>10.32</td>\n",
       "      <td>10.060</td>\n",
       "      <td>10.23</td>\n",
       "      <td>9.063578</td>\n",
       "      <td>52662</td>\n",
       "    </tr>\n",
       "    <tr>\n",
       "      <th>...</th>\n",
       "      <td>...</td>\n",
       "      <td>...</td>\n",
       "      <td>...</td>\n",
       "      <td>...</td>\n",
       "      <td>...</td>\n",
       "      <td>...</td>\n",
       "      <td>...</td>\n",
       "    </tr>\n",
       "    <tr>\n",
       "      <th>704</th>\n",
       "      <td>10/14/2018</td>\n",
       "      <td>4.54</td>\n",
       "      <td>4.61</td>\n",
       "      <td>4.430</td>\n",
       "      <td>4.43</td>\n",
       "      <td>4.430000</td>\n",
       "      <td>54174</td>\n",
       "    </tr>\n",
       "    <tr>\n",
       "      <th>705</th>\n",
       "      <td>10/15/2018</td>\n",
       "      <td>4.45</td>\n",
       "      <td>4.58</td>\n",
       "      <td>4.440</td>\n",
       "      <td>4.47</td>\n",
       "      <td>4.470000</td>\n",
       "      <td>48450</td>\n",
       "    </tr>\n",
       "    <tr>\n",
       "      <th>706</th>\n",
       "      <td>10/16/2018</td>\n",
       "      <td>2.56</td>\n",
       "      <td>2.99</td>\n",
       "      <td>2.500</td>\n",
       "      <td>2.73</td>\n",
       "      <td>2.730000</td>\n",
       "      <td>3464982</td>\n",
       "    </tr>\n",
       "    <tr>\n",
       "      <th>707</th>\n",
       "      <td>10/17/2018</td>\n",
       "      <td>2.78</td>\n",
       "      <td>2.85</td>\n",
       "      <td>2.600</td>\n",
       "      <td>2.63</td>\n",
       "      <td>2.630000</td>\n",
       "      <td>1296118</td>\n",
       "    </tr>\n",
       "    <tr>\n",
       "      <th>708</th>\n",
       "      <td>10/18/2018</td>\n",
       "      <td>2.63</td>\n",
       "      <td>2.65</td>\n",
       "      <td>2.440</td>\n",
       "      <td>2.46</td>\n",
       "      <td>2.460000</td>\n",
       "      <td>1100105</td>\n",
       "    </tr>\n",
       "  </tbody>\n",
       "</table>\n",
       "<p>709 rows × 7 columns</p>\n",
       "</div>"
      ]
     },
     "metadata": {},
     "execution_count": 48
    }
   ],
   "metadata": {}
  },
  {
   "cell_type": "code",
   "execution_count": 61,
   "source": [
    "excelFile = pd.ExcelFile('Financial_data.xlsx',encoding='latin')"
   ],
   "outputs": [
    {
     "output_type": "error",
     "ename": "TypeError",
     "evalue": "__init__() got an unexpected keyword argument 'encoding'",
     "traceback": [
      "\u001b[1;31m---------------------------------------------------------------------------\u001b[0m",
      "\u001b[1;31mTypeError\u001b[0m                                 Traceback (most recent call last)",
      "\u001b[1;32m<ipython-input-61-698d4e06c1cc>\u001b[0m in \u001b[0;36m<module>\u001b[1;34m\u001b[0m\n\u001b[1;32m----> 1\u001b[1;33m \u001b[0mexcelFile\u001b[0m \u001b[1;33m=\u001b[0m \u001b[0mpd\u001b[0m\u001b[1;33m.\u001b[0m\u001b[0mExcelFile\u001b[0m\u001b[1;33m(\u001b[0m\u001b[1;34m'Financial_data.xlsx'\u001b[0m\u001b[1;33m,\u001b[0m\u001b[0mencoding\u001b[0m\u001b[1;33m=\u001b[0m\u001b[1;34m'latin'\u001b[0m\u001b[1;33m)\u001b[0m\u001b[1;33m\u001b[0m\u001b[1;33m\u001b[0m\u001b[0m\n\u001b[0m",
      "\u001b[1;31mTypeError\u001b[0m: __init__() got an unexpected keyword argument 'encoding'"
     ]
    }
   ],
   "metadata": {}
  },
  {
   "cell_type": "code",
   "execution_count": 54,
   "source": [
    "excelFile.sheet_names"
   ],
   "outputs": [
    {
     "output_type": "execute_result",
     "data": {
      "text/plain": [
       "['ASX200', 'RejectShop', 'BHP', 'Adj Close']"
      ]
     },
     "metadata": {},
     "execution_count": 54
    }
   ],
   "metadata": {}
  },
  {
   "cell_type": "code",
   "execution_count": 60,
   "source": [
    "type(excelFile.parse(sheet_name = 'ASX200',encoding='latin'))"
   ],
   "outputs": [
    {
     "output_type": "execute_result",
     "data": {
      "text/plain": [
       "pandas.core.frame.DataFrame"
      ]
     },
     "metadata": {},
     "execution_count": 60
    }
   ],
   "metadata": {}
  },
  {
   "cell_type": "code",
   "execution_count": 58,
   "source": [
    "for worksheetName in excelFile.sheet_names:\r\n",
    "\tdataframeObject = excelFile.parse(sheet_name = worksheetName)\r\n",
    "\tprint(dataframeObject)"
   ],
   "outputs": [
    {
     "output_type": "stream",
     "name": "stdout",
     "text": [
      "          Date         Open         High          Low        Close  \\\n",
      "0   2016-01-03  5295.899902  5331.399902  5263.799805  5270.500000   \n",
      "1   2016-01-04  5270.500000  5270.500000  5183.700195  5184.399902   \n",
      "2   2016-01-05  5184.399902  5191.100098  5094.799805  5123.100098   \n",
      "3   2016-01-06  5123.100098  5124.100098  4996.500000  5010.299805   \n",
      "4   2016-01-07  5010.299805  5034.299805  4940.299805  4990.799805   \n",
      "..         ...          ...          ...          ...          ...   \n",
      "704 2018-10-14  5895.700195  5895.700195  5796.000000  5837.100098   \n",
      "705 2018-10-15  5869.899902  5884.700195  5837.100098  5869.899902   \n",
      "706 2018-10-16  5869.899902  5940.200195  5869.899902  5939.100098   \n",
      "707 2018-10-17  5939.100098  5942.799805  5914.899902  5942.399902   \n",
      "708 2018-10-18  5942.399902  5942.399902  5883.299805  5939.500000   \n",
      "\n",
      "       Adj Close  Volume  \n",
      "0    5270.500000     0.0  \n",
      "1    5184.399902     0.0  \n",
      "2    5123.100098     0.0  \n",
      "3    5010.299805     0.0  \n",
      "4    4990.799805     0.0  \n",
      "..           ...     ...  \n",
      "704  5837.100098     0.0  \n",
      "705  5869.899902     0.0  \n",
      "706  5939.100098     0.0  \n",
      "707  5942.399902     0.0  \n",
      "708  5939.500000     0.0  \n",
      "\n",
      "[709 rows x 7 columns]\n",
      "          Date   Open   High     Low  Close  Adj Close   Volume\n",
      "0   2016-01-03  10.90  11.10  10.820  10.87   9.630605    66047\n",
      "1   2016-01-04  10.82  10.82  10.310  10.76   9.533148   123471\n",
      "2   2016-01-05  10.70  10.97  10.530  10.97   9.719204   118132\n",
      "3   2016-01-06  10.76  10.76  10.135  10.44   9.249632    96642\n",
      "4   2016-01-07  10.15  10.32  10.060  10.23   9.063578    52662\n",
      "..         ...    ...    ...     ...    ...        ...      ...\n",
      "704 2018-10-14   4.54   4.61   4.430   4.43   4.430000    54174\n",
      "705 2018-10-15   4.45   4.58   4.440   4.47   4.470000    48450\n",
      "706 2018-10-16   2.56   2.99   2.500   2.73   2.730000  3464982\n",
      "707 2018-10-17   2.78   2.85   2.600   2.63   2.630000  1296118\n",
      "708 2018-10-18   2.63   2.65   2.440   2.46   2.460000  1100105\n",
      "\n",
      "[709 rows x 7 columns]\n",
      "          Date       Open        BHP        Low      Close  Adj Close  \\\n",
      "0   2016-01-03  17.850000  18.190001  17.730000  17.799999  15.898844   \n",
      "1   2016-01-04  17.730000  17.959999  17.510000  17.580000  15.702342   \n",
      "2   2016-01-05  17.750000  17.820000  17.010000  17.150000  15.318267   \n",
      "3   2016-01-06  16.730000  16.879999  16.299999  16.330000  14.585848   \n",
      "4   2016-01-07  16.110001  16.530001  15.950000  16.350000  14.603714   \n",
      "..         ...        ...        ...        ...        ...        ...   \n",
      "704 2018-10-14  33.540001  33.709999  33.020000  33.340000  33.340000   \n",
      "705 2018-10-15  33.750000  34.130001  33.700001  33.900002  33.900002   \n",
      "706 2018-10-16  34.119999  34.169998  33.430000  33.660000  33.660000   \n",
      "707 2018-10-17  33.509998  33.555000  33.090000  33.200001  33.200001   \n",
      "708 2018-10-18  32.680000  33.099998  32.430000  33.099998  33.099998   \n",
      "\n",
      "       Volume  \n",
      "0     6135625  \n",
      "1     6668488  \n",
      "2     8606929  \n",
      "3    13342782  \n",
      "4    12562037  \n",
      "..        ...  \n",
      "704   5553529  \n",
      "705   7614374  \n",
      "706   5356637  \n",
      "707   6767086  \n",
      "708   8825021  \n",
      "\n",
      "[709 rows x 7 columns]\n",
      "          Date       ASX200        BHP  Reject shop (TRS)\n",
      "0   2016-01-03  5270.500000  15.898844           9.630605\n",
      "1   2016-01-04  5184.399902  15.702342           9.533148\n",
      "2   2016-01-05  5123.100098  15.318267           9.719204\n",
      "3   2016-01-06  5010.299805  14.585848           9.249632\n",
      "4   2016-01-07  4990.799805  14.603714           9.063578\n",
      "..         ...          ...        ...                ...\n",
      "703 2018-10-14  5837.100098  33.340000           4.430000\n",
      "704 2018-10-15  5869.899902  33.900002           4.470000\n",
      "705 2018-10-16  5939.100098  33.660000           2.730000\n",
      "706 2018-10-17  5942.399902  33.200001           2.630000\n",
      "707 2018-10-18  5939.500000  33.099998           2.460000\n",
      "\n",
      "[708 rows x 4 columns]\n"
     ]
    }
   ],
   "metadata": {}
  },
  {
   "cell_type": "code",
   "execution_count": 21,
   "source": [
    "import re\r\n",
    "folderPath = \"C:/Users/Public/Documents/Datasets/DATA 4000/\"\r\n",
    "# os.path.basename(folderPath)\r\n",
    "subjectName = os.path.basename(os.path.normpath(folderPath))\r\n",
    "print(subjectName)\r\n",
    "print(re.sub('/s+','',subjectName))\r\n",
    "# for currentPath,dir_list,file_list in os.walk(folderPath)"
   ],
   "outputs": [
    {
     "output_type": "stream",
     "name": "stdout",
     "text": [
      "DATA 4000\n",
      "DATA4000\n"
     ]
    }
   ],
   "metadata": {}
  },
  {
   "cell_type": "code",
   "execution_count": 62,
   "source": [
    "df"
   ],
   "outputs": [
    {
     "output_type": "error",
     "ename": "NameError",
     "evalue": "name 'df' is not defined",
     "traceback": [
      "\u001b[1;31m---------------------------------------------------------------------------\u001b[0m",
      "\u001b[1;31mNameError\u001b[0m                                 Traceback (most recent call last)",
      "\u001b[1;32m<ipython-input-62-00cf07b74dcd>\u001b[0m in \u001b[0;36m<module>\u001b[1;34m\u001b[0m\n\u001b[1;32m----> 1\u001b[1;33m \u001b[0mdf\u001b[0m\u001b[1;33m\u001b[0m\u001b[1;33m\u001b[0m\u001b[0m\n\u001b[0m",
      "\u001b[1;31mNameError\u001b[0m: name 'df' is not defined"
     ]
    }
   ],
   "metadata": {}
  },
  {
   "cell_type": "code",
   "execution_count": 2,
   "source": [
    "import pyodbc\r\n",
    "dbName = 'MBAN'\r\n",
    "schema = 'dbo'\r\n",
    "conn = pyodbc.connect(f'''Driver={{SQL Server}};\r\n",
    "\t\t\tServer=KA-PF14P8C2/SQLEXPRESS;\r\n",
    "\t\t\tDatabase={dbName};\r\n",
    "\t\t\tTrusted_Connection=yes;''')\r\n",
    "cursor = conn.cursor()\r\n",
    "\r\n",
    "# cursor.fast_executemany = True"
   ],
   "outputs": [],
   "metadata": {}
  },
  {
   "cell_type": "code",
   "execution_count": 16,
   "source": [
    "tableName = 'DATA4100_DATA4100_WoRKsHOP5_STOCKSSORTInG_TABLE_Sheet1'\r\n",
    "# if cursor.tables(table=tableName,tableType = 'TABLE').fetchone():\r\n",
    "# \tprint(\"table exists\")\r\n",
    "# else:\r\n",
    "# \tprint(\"Table doesn't exist\")\r\n",
    "\r\n",
    "if cursor.tables(table=tableName,tableType = 'TABLE').fetchone() is None:\r\n",
    "\tprint(\"Table doesn't exist\")\r\n",
    "else:\r\n",
    "\tprint(\"table exists\")"
   ],
   "outputs": [
    {
     "output_type": "stream",
     "name": "stdout",
     "text": [
      "table exists\n"
     ]
    }
   ],
   "metadata": {}
  },
  {
   "cell_type": "code",
   "execution_count": 17,
   "source": [
    "os.getcwd()"
   ],
   "outputs": [
    {
     "output_type": "execute_result",
     "data": {
      "text/plain": [
       "'c:\\\\Users\\\\stanley.setiawan\\\\Documents\\\\Projects\\\\AutomateSQLImport'"
      ]
     },
     "metadata": {},
     "execution_count": 17
    }
   ],
   "metadata": {}
  },
  {
   "cell_type": "code",
   "execution_count": 18,
   "source": [
    "os.chdir('C:/Users/Public/Documents/Datasets/DATA 4200')"
   ],
   "outputs": [],
   "metadata": {}
  },
  {
   "cell_type": "code",
   "execution_count": 19,
   "source": [
    "os.getcwd()"
   ],
   "outputs": [
    {
     "output_type": "execute_result",
     "data": {
      "text/plain": [
       "'C:\\\\Users\\\\Public\\\\Documents\\\\Datasets\\\\DATA 4200'"
      ]
     },
     "metadata": {},
     "execution_count": 19
    }
   ],
   "metadata": {}
  },
  {
   "cell_type": "code",
   "execution_count": 20,
   "source": [
    "ls"
   ],
   "outputs": [
    {
     "output_type": "stream",
     "name": "stdout",
     "text": [
      " Volume in drive C is OSDisk\n",
      " Volume Serial Number is C21A-A094\n",
      "\n",
      " Directory of C:\\Users\\Public\\Documents\\Datasets\\DATA 4200\n",
      "\n",
      "22/06/2021  02:38 PM    <DIR>          .\n",
      "22/06/2021  02:38 PM    <DIR>          ..\n",
      "22/03/2021  11:22 PM           677,189 bank_connections.csv\n",
      "22/03/2021  11:22 PM        57,969,510 Boston_Crimes.csv\n",
      "22/06/2021  02:37 PM    <DIR>          customers\n",
      "22/06/2021  02:37 PM    <DIR>          DATA4200_ansiaami-ec13-test-waveforms-1.0.0\n",
      "29/04/2020  04:18 PM        57,969,510 DATA4200_Boston_Crimes.csv\n",
      "07/05/2020  08:36 AM         5,021,528 DATA4200_JC-201608-citibike-tripdata.csv\n",
      "29/04/2020  04:18 PM         3,494,721 DATA4200_JC-201608-citibike-tripdata.xlsx\n",
      "29/04/2020  04:26 PM         4,816,632 DATA4200_JC-201608-citibike-tripdata-Mac_Mini_2019.csv\n",
      "29/04/2020  04:18 PM           629,473 DATA4200_MissingMigrants-Global-2019-03-29T18-36-07.xlsx\n",
      "29/04/2020  04:18 PM            19,406 DATA4200_offense_codes.csv\n",
      "29/04/2020  04:18 PM            23,563 DATA4200_Offense_codes.xlsx\n",
      "29/04/2020  04:26 PM               282 DATA4200_Suspects.csv\n",
      "29/04/2020  04:18 PM             8,557 DATA4200_Suspects.xlsx\n",
      "22/06/2021  02:37 PM    <DIR>          fincen\n",
      "22/03/2021  11:23 PM                 0 JC-201608-citibike-tripdata.csv\n",
      "22/03/2021  11:23 PM         3,500,840 JC-201608-citibike-tripdata.xlsx\n",
      "22/03/2021  11:23 PM         4,816,632 JC-201608-citibike-tripdata-Mac_Mini_2019.csv\n",
      "22/03/2021  11:23 PM         3,043,950 JC-201610-citibike-tripdata.xlsx\n",
      "22/03/2021  11:23 PM            19,406 offense_codes.csv\n",
      "22/03/2021  11:23 PM            29,688 Offense_codes.xlsx\n",
      "29/04/2020  04:15 PM        63,857,349 OneDrive_1_4-29-2020.zip\n",
      "22/03/2021  11:23 PM            17,891 Suspects_T1_2021.xlsx\n",
      "22/03/2021  11:23 PM         1,080,006 transactions_map.csv\n",
      "22/03/2021  11:23 PM         6,380,065 world_football_players_2020.csv\n",
      "              21 File(s)    213,376,198 bytes\n",
      "               5 Dir(s)  333,659,123,712 bytes free\n"
     ]
    }
   ],
   "metadata": {}
  },
  {
   "cell_type": "code",
   "execution_count": 24,
   "source": [
    "import chardet\r\n",
    "import pandas as pd \r\n",
    "\r\n",
    "with open('JC-201608-citibike-tripdata-Mac_Mini_2019.csv','rb') as file:\r\n",
    "\tencoding = chardet.detect(file.read(100000))['encoding']\r\n",
    "print(f'File encoding is {encoding}')\r\n",
    "df = pd.read_csv('JC-201608-citibike-tripdata-Mac_Mini_2019.csv',encoding=encoding)"
   ],
   "outputs": [
    {
     "output_type": "stream",
     "name": "stdout",
     "text": [
      "File encoding is ascii\n"
     ]
    }
   ],
   "metadata": {}
  },
  {
   "cell_type": "code",
   "execution_count": 25,
   "source": [
    "df"
   ],
   "outputs": [
    {
     "output_type": "execute_result",
     "data": {
      "text/plain": [
       "       Trip Duration     Start Time      Stop Time  Start Station ID  \\\n",
       "0                165    1/8/16 0:09    1/8/16 0:12              3270   \n",
       "1                705    1/8/16 1:45    1/8/16 1:56              3186   \n",
       "2                854    1/8/16 2:22    1/8/16 2:36              3183   \n",
       "3                211    1/8/16 3:05    1/8/16 3:08              3194   \n",
       "4                506    1/8/16 3:25    1/8/16 3:34              3195   \n",
       "...              ...            ...            ...               ...   \n",
       "34144            421  31/8/16 23:42  31/8/16 23:49              3185   \n",
       "34145            295  31/8/16 23:44  31/8/16 23:49              3273   \n",
       "34146            227  31/8/16 23:50  31/8/16 23:53              3220   \n",
       "34147            312  31/8/16 23:56    1/9/16 0:01              3195   \n",
       "34148            229  31/8/16 23:59    1/9/16 0:03              3276   \n",
       "\n",
       "      Start Station Name  Start Station Latitude  Start Station Longitude  \\\n",
       "0        Jersey & 6th St               40.725289               -74.045572   \n",
       "1          Grove St PATH               40.719586               -74.043117   \n",
       "2         Exchange Place               40.716247               -74.033459   \n",
       "3        McGinley Square               40.725340               -74.067622   \n",
       "4                Sip Ave               40.730743               -74.063784   \n",
       "...                  ...                     ...                      ...   \n",
       "34144          City Hall               40.717733               -74.043845   \n",
       "34145       Manila & 1st               40.721651               -74.042884   \n",
       "34146  5 Corners Library               40.734961               -74.059503   \n",
       "34147            Sip Ave               40.730743               -74.063784   \n",
       "34148   Marin Light Rail               40.714584               -74.042817   \n",
       "\n",
       "       End Station ID      End Station Name  End Station Latitude  \\\n",
       "0                3273          Manila & 1st             40.721651   \n",
       "1                3206               Hilltop             40.731169   \n",
       "2                3190  Garfield Ave Station             40.710467   \n",
       "3                3195               Sip Ave             40.730743   \n",
       "4                3193          Lincoln Park             40.724605   \n",
       "...               ...                   ...                   ...   \n",
       "34144            3192    Liberty Light Rail             40.711242   \n",
       "34145            3278      Monmouth and 6th             40.725685   \n",
       "34146            3195               Sip Ave             40.730743   \n",
       "34147            3194       McGinley Square             40.725340   \n",
       "34148            3214      Essex Light Rail             40.712774   \n",
       "\n",
       "       End Station Longitude  Bike ID   User Type  Birth Year  Gender  \n",
       "0                 -74.042884    24679  Subscriber      1968.0       1  \n",
       "1                 -74.057574    24530  Subscriber      1978.0       1  \n",
       "2                 -74.070039    24649  Subscriber      1988.0       1  \n",
       "3                 -74.063784    24624  Subscriber      1986.0       1  \n",
       "4                 -74.078406    24624  Subscriber      1986.0       1  \n",
       "...                      ...      ...         ...         ...     ...  \n",
       "34144             -74.055701    26238  Subscriber      1989.0       1  \n",
       "34145             -74.048790    26173  Subscriber      1980.0       2  \n",
       "34146             -74.063784    24638  Subscriber      1987.0       1  \n",
       "34147             -74.067622    24638  Subscriber      1988.0       1  \n",
       "34148             -74.036486    26163  Subscriber      1958.0       1  \n",
       "\n",
       "[34149 rows x 15 columns]"
      ],
      "text/html": [
       "<div>\n",
       "<style scoped>\n",
       "    .dataframe tbody tr th:only-of-type {\n",
       "        vertical-align: middle;\n",
       "    }\n",
       "\n",
       "    .dataframe tbody tr th {\n",
       "        vertical-align: top;\n",
       "    }\n",
       "\n",
       "    .dataframe thead th {\n",
       "        text-align: right;\n",
       "    }\n",
       "</style>\n",
       "<table border=\"1\" class=\"dataframe\">\n",
       "  <thead>\n",
       "    <tr style=\"text-align: right;\">\n",
       "      <th></th>\n",
       "      <th>Trip Duration</th>\n",
       "      <th>Start Time</th>\n",
       "      <th>Stop Time</th>\n",
       "      <th>Start Station ID</th>\n",
       "      <th>Start Station Name</th>\n",
       "      <th>Start Station Latitude</th>\n",
       "      <th>Start Station Longitude</th>\n",
       "      <th>End Station ID</th>\n",
       "      <th>End Station Name</th>\n",
       "      <th>End Station Latitude</th>\n",
       "      <th>End Station Longitude</th>\n",
       "      <th>Bike ID</th>\n",
       "      <th>User Type</th>\n",
       "      <th>Birth Year</th>\n",
       "      <th>Gender</th>\n",
       "    </tr>\n",
       "  </thead>\n",
       "  <tbody>\n",
       "    <tr>\n",
       "      <th>0</th>\n",
       "      <td>165</td>\n",
       "      <td>1/8/16 0:09</td>\n",
       "      <td>1/8/16 0:12</td>\n",
       "      <td>3270</td>\n",
       "      <td>Jersey &amp; 6th St</td>\n",
       "      <td>40.725289</td>\n",
       "      <td>-74.045572</td>\n",
       "      <td>3273</td>\n",
       "      <td>Manila &amp; 1st</td>\n",
       "      <td>40.721651</td>\n",
       "      <td>-74.042884</td>\n",
       "      <td>24679</td>\n",
       "      <td>Subscriber</td>\n",
       "      <td>1968.0</td>\n",
       "      <td>1</td>\n",
       "    </tr>\n",
       "    <tr>\n",
       "      <th>1</th>\n",
       "      <td>705</td>\n",
       "      <td>1/8/16 1:45</td>\n",
       "      <td>1/8/16 1:56</td>\n",
       "      <td>3186</td>\n",
       "      <td>Grove St PATH</td>\n",
       "      <td>40.719586</td>\n",
       "      <td>-74.043117</td>\n",
       "      <td>3206</td>\n",
       "      <td>Hilltop</td>\n",
       "      <td>40.731169</td>\n",
       "      <td>-74.057574</td>\n",
       "      <td>24530</td>\n",
       "      <td>Subscriber</td>\n",
       "      <td>1978.0</td>\n",
       "      <td>1</td>\n",
       "    </tr>\n",
       "    <tr>\n",
       "      <th>2</th>\n",
       "      <td>854</td>\n",
       "      <td>1/8/16 2:22</td>\n",
       "      <td>1/8/16 2:36</td>\n",
       "      <td>3183</td>\n",
       "      <td>Exchange Place</td>\n",
       "      <td>40.716247</td>\n",
       "      <td>-74.033459</td>\n",
       "      <td>3190</td>\n",
       "      <td>Garfield Ave Station</td>\n",
       "      <td>40.710467</td>\n",
       "      <td>-74.070039</td>\n",
       "      <td>24649</td>\n",
       "      <td>Subscriber</td>\n",
       "      <td>1988.0</td>\n",
       "      <td>1</td>\n",
       "    </tr>\n",
       "    <tr>\n",
       "      <th>3</th>\n",
       "      <td>211</td>\n",
       "      <td>1/8/16 3:05</td>\n",
       "      <td>1/8/16 3:08</td>\n",
       "      <td>3194</td>\n",
       "      <td>McGinley Square</td>\n",
       "      <td>40.725340</td>\n",
       "      <td>-74.067622</td>\n",
       "      <td>3195</td>\n",
       "      <td>Sip Ave</td>\n",
       "      <td>40.730743</td>\n",
       "      <td>-74.063784</td>\n",
       "      <td>24624</td>\n",
       "      <td>Subscriber</td>\n",
       "      <td>1986.0</td>\n",
       "      <td>1</td>\n",
       "    </tr>\n",
       "    <tr>\n",
       "      <th>4</th>\n",
       "      <td>506</td>\n",
       "      <td>1/8/16 3:25</td>\n",
       "      <td>1/8/16 3:34</td>\n",
       "      <td>3195</td>\n",
       "      <td>Sip Ave</td>\n",
       "      <td>40.730743</td>\n",
       "      <td>-74.063784</td>\n",
       "      <td>3193</td>\n",
       "      <td>Lincoln Park</td>\n",
       "      <td>40.724605</td>\n",
       "      <td>-74.078406</td>\n",
       "      <td>24624</td>\n",
       "      <td>Subscriber</td>\n",
       "      <td>1986.0</td>\n",
       "      <td>1</td>\n",
       "    </tr>\n",
       "    <tr>\n",
       "      <th>...</th>\n",
       "      <td>...</td>\n",
       "      <td>...</td>\n",
       "      <td>...</td>\n",
       "      <td>...</td>\n",
       "      <td>...</td>\n",
       "      <td>...</td>\n",
       "      <td>...</td>\n",
       "      <td>...</td>\n",
       "      <td>...</td>\n",
       "      <td>...</td>\n",
       "      <td>...</td>\n",
       "      <td>...</td>\n",
       "      <td>...</td>\n",
       "      <td>...</td>\n",
       "      <td>...</td>\n",
       "    </tr>\n",
       "    <tr>\n",
       "      <th>34144</th>\n",
       "      <td>421</td>\n",
       "      <td>31/8/16 23:42</td>\n",
       "      <td>31/8/16 23:49</td>\n",
       "      <td>3185</td>\n",
       "      <td>City Hall</td>\n",
       "      <td>40.717733</td>\n",
       "      <td>-74.043845</td>\n",
       "      <td>3192</td>\n",
       "      <td>Liberty Light Rail</td>\n",
       "      <td>40.711242</td>\n",
       "      <td>-74.055701</td>\n",
       "      <td>26238</td>\n",
       "      <td>Subscriber</td>\n",
       "      <td>1989.0</td>\n",
       "      <td>1</td>\n",
       "    </tr>\n",
       "    <tr>\n",
       "      <th>34145</th>\n",
       "      <td>295</td>\n",
       "      <td>31/8/16 23:44</td>\n",
       "      <td>31/8/16 23:49</td>\n",
       "      <td>3273</td>\n",
       "      <td>Manila &amp; 1st</td>\n",
       "      <td>40.721651</td>\n",
       "      <td>-74.042884</td>\n",
       "      <td>3278</td>\n",
       "      <td>Monmouth and 6th</td>\n",
       "      <td>40.725685</td>\n",
       "      <td>-74.048790</td>\n",
       "      <td>26173</td>\n",
       "      <td>Subscriber</td>\n",
       "      <td>1980.0</td>\n",
       "      <td>2</td>\n",
       "    </tr>\n",
       "    <tr>\n",
       "      <th>34146</th>\n",
       "      <td>227</td>\n",
       "      <td>31/8/16 23:50</td>\n",
       "      <td>31/8/16 23:53</td>\n",
       "      <td>3220</td>\n",
       "      <td>5 Corners Library</td>\n",
       "      <td>40.734961</td>\n",
       "      <td>-74.059503</td>\n",
       "      <td>3195</td>\n",
       "      <td>Sip Ave</td>\n",
       "      <td>40.730743</td>\n",
       "      <td>-74.063784</td>\n",
       "      <td>24638</td>\n",
       "      <td>Subscriber</td>\n",
       "      <td>1987.0</td>\n",
       "      <td>1</td>\n",
       "    </tr>\n",
       "    <tr>\n",
       "      <th>34147</th>\n",
       "      <td>312</td>\n",
       "      <td>31/8/16 23:56</td>\n",
       "      <td>1/9/16 0:01</td>\n",
       "      <td>3195</td>\n",
       "      <td>Sip Ave</td>\n",
       "      <td>40.730743</td>\n",
       "      <td>-74.063784</td>\n",
       "      <td>3194</td>\n",
       "      <td>McGinley Square</td>\n",
       "      <td>40.725340</td>\n",
       "      <td>-74.067622</td>\n",
       "      <td>24638</td>\n",
       "      <td>Subscriber</td>\n",
       "      <td>1988.0</td>\n",
       "      <td>1</td>\n",
       "    </tr>\n",
       "    <tr>\n",
       "      <th>34148</th>\n",
       "      <td>229</td>\n",
       "      <td>31/8/16 23:59</td>\n",
       "      <td>1/9/16 0:03</td>\n",
       "      <td>3276</td>\n",
       "      <td>Marin Light Rail</td>\n",
       "      <td>40.714584</td>\n",
       "      <td>-74.042817</td>\n",
       "      <td>3214</td>\n",
       "      <td>Essex Light Rail</td>\n",
       "      <td>40.712774</td>\n",
       "      <td>-74.036486</td>\n",
       "      <td>26163</td>\n",
       "      <td>Subscriber</td>\n",
       "      <td>1958.0</td>\n",
       "      <td>1</td>\n",
       "    </tr>\n",
       "  </tbody>\n",
       "</table>\n",
       "<p>34149 rows × 15 columns</p>\n",
       "</div>"
      ]
     },
     "metadata": {},
     "execution_count": 25
    }
   ],
   "metadata": {}
  },
  {
   "cell_type": "code",
   "execution_count": 65,
   "source": [
    "import re\r\n",
    "import pandas as pd\r\n",
    "import chardet\r\n",
    "\r\n",
    "# os.chdir('C:/Users/Public/Documents/Datasets/DATA 4200/scriptTest/customers')\r\n",
    "\r\n",
    "for currentPath,dir_list,file_list in os.walk('.'):\r\n",
    "\tfor fileName in file_list:\r\n",
    "\t\tif re.search('/.csv$',fileName):\r\n",
    "\t\t\tprint(fileName)\r\n",
    "\t\t\t# filePath = os.path.join(currentPath,fileName)\r\n",
    "\t\t\t\r\n",
    "\t\t\t# with open(filePath,'rb') as file:\r\n",
    "\t\t\t# \tencoding=chardet.detect(file.read(100000))['encoding']\r\n",
    "\r\n",
    "\r\n",
    "\t\t\t# try:\r\n",
    "\t\t\ttry:\r\n",
    "\t\t\t\tpd.read_csv(filePath,encoding=encoding)\r\n",
    "\t\t\texcept pd.io.common.EmptyDataError:\r\n",
    "\t\t\t\tprint(f'{filePath} is empty')\r\n",
    "\t\t\t\tpass\r\n",
    "\t\t\t# except EmptyDataError:\r\n",
    "\t\t\t# \tprint(f'{fileName} is empty')\r\n",
    "\t\t\t# \tcontinue\r\n",
    "\t\t\t# except Empty:\r\n",
    "\t\t\t# \tcontinue\r\n"
   ],
   "outputs": [],
   "metadata": {}
  },
  {
   "cell_type": "code",
   "execution_count": 48,
   "source": [
    "os.getcwd()"
   ],
   "outputs": [
    {
     "output_type": "execute_result",
     "data": {
      "text/plain": [
       "'C:\\\\Users\\\\Public\\\\Documents\\\\Datasets\\\\DATA 4200\\\\scriptTest\\\\customers'"
      ]
     },
     "metadata": {},
     "execution_count": 48
    }
   ],
   "metadata": {}
  },
  {
   "cell_type": "code",
   "execution_count": 68,
   "source": [
    "os.getcwd()"
   ],
   "outputs": [
    {
     "output_type": "execute_result",
     "data": {
      "text/plain": [
       "'C:\\\\Users\\\\Public\\\\Documents\\\\Datasets\\\\DATA 4200\\\\scriptTest\\\\customers'"
      ]
     },
     "metadata": {},
     "execution_count": 68
    }
   ],
   "metadata": {}
  },
  {
   "cell_type": "code",
   "execution_count": 93,
   "source": [
    "# os.walk('.')\r\n",
    "# folderPath = 'C:/Users/Public/Documents/Datasets/DATA 4200/scriptTest/customers'\r\n",
    "for currentPath,dir_list,file_list in os.walk('.'):\r\n",
    "\tif '__MACOSX' not in currentPath:\r\n",
    "\t\tfor fileName in file_list:\r\n",
    "\t\t\tif re.search('\\.csv$',fileName):\r\n",
    "\t\t\t\tfilePath = os.path.join(currentPath,fileName)\r\n",
    "\t\t\t\t# print(filePath)\r\n",
    "\t\t\t\twith open(filePath,'rb') as file:\r\n",
    "\t\t\t\t\tencoding=chardet.detect(file.read(100000))['encoding']\r\n",
    "\t\t\t\t\tprint(filePath,encoding)\r\n",
    "\r\n",
    "\t\t\t\ttry:\r\n",
    "\t\t\t\t\tpd.read_csv(filePath,encoding=encoding)\r\n",
    "\t\t\t\texcept pd.io.common.EmptyDataError as emptyTableError:\r\n",
    "\t\t\t\t\tprint(f'{filePath} is empty')\r\n",
    "\t\t\t\t\tprint(str(emptyTableError))\r\n",
    "\t\t\t\t\tpass\r\n",
    "\t\t\t\texcept pd.io.common.ParserError as dfStructureError:\r\n",
    "\t\t\t\t\tprint(f'{filePath} has error in its table structure')\r\n",
    "\t\t\t\t\tprint(str(dfStructureError))\r\n",
    "\t\t\t\t\tpass\r\n",
    "\t\t\t\texcept UnicodeDecodeError as encodingError:\r\n",
    "\t\t\t\t\tprint(f'{filePath} has error in encoding')\r\n",
    "\t\t\t\t\tprint(encodingError)\r\n",
    "\t\t\t\t\tpass"
   ],
   "outputs": [
    {
     "output_type": "stream",
     "name": "stdout",
     "text": [
      ".\\customers\\categories.csv ascii\n",
      ".\\customers\\customers.csv utf-8\n",
      ".\\customers\\employees.csv ascii\n",
      ".\\customers\\order-details.csv ascii\n",
      ".\\customers\\orders.csv utf-8\n",
      ".\\customers\\products.csv utf-8\n",
      ".\\customers\\suppliers.csv utf-8\n",
      ".\\__MACOSX\\customers\\._categories.csv Windows-1252\n",
      ".\\__MACOSX\\customers\\._categories.csv has error in encoding\n",
      "'charmap' codec can't decode byte 0x9d in position 158: character maps to <undefined>\n",
      ".\\__MACOSX\\customers\\._customers.csv Windows-1252\n",
      ".\\__MACOSX\\customers\\._customers.csv has error in encoding\n",
      "'charmap' codec can't decode byte 0x9d in position 158: character maps to <undefined>\n",
      ".\\__MACOSX\\customers\\._employees.csv Windows-1252\n",
      ".\\__MACOSX\\customers\\._employees.csv has error in encoding\n",
      "'charmap' codec can't decode byte 0x9d in position 158: character maps to <undefined>\n",
      ".\\__MACOSX\\customers\\._order-details.csv Windows-1252\n",
      ".\\__MACOSX\\customers\\._order-details.csv has error in encoding\n",
      "'charmap' codec can't decode byte 0x9d in position 158: character maps to <undefined>\n",
      ".\\__MACOSX\\customers\\._orders.csv Windows-1252\n",
      ".\\__MACOSX\\customers\\._orders.csv has error in encoding\n",
      "'charmap' codec can't decode byte 0x9d in position 246: character maps to <undefined>\n",
      ".\\__MACOSX\\customers\\._products.csv Windows-1252\n",
      ".\\__MACOSX\\customers\\._products.csv has error in encoding\n",
      "'charmap' codec can't decode byte 0x9d in position 158: character maps to <undefined>\n",
      ".\\__MACOSX\\customers\\._suppliers.csv Windows-1252\n",
      ".\\__MACOSX\\customers\\._suppliers.csv has error in encoding\n",
      "'charmap' codec can't decode byte 0x9d in position 158: character maps to <undefined>\n"
     ]
    }
   ],
   "metadata": {}
  },
  {
   "cell_type": "code",
   "execution_count": 89,
   "source": [
    "filePath = '.\\__MACOSX\\customers\\._orders.csv'\r\n",
    "\r\n",
    "# with open(filePath,'rb') as file:\r\n",
    "# \tprint(chardet.detect(file.read()))\r\n",
    "\r\n",
    "pd.read_csv('.\\__MACOSX\\customers\\._orders.csv')"
   ],
   "outputs": [
    {
     "output_type": "execute_result",
     "data": {
      "text/plain": [
       "  Unnamed: 0\n",
       "0        \u000f~r"
      ],
      "text/html": [
       "<div>\n",
       "<style scoped>\n",
       "    .dataframe tbody tr th:only-of-type {\n",
       "        vertical-align: middle;\n",
       "    }\n",
       "\n",
       "    .dataframe tbody tr th {\n",
       "        vertical-align: top;\n",
       "    }\n",
       "\n",
       "    .dataframe thead th {\n",
       "        text-align: right;\n",
       "    }\n",
       "</style>\n",
       "<table border=\"1\" class=\"dataframe\">\n",
       "  <thead>\n",
       "    <tr style=\"text-align: right;\">\n",
       "      <th></th>\n",
       "      <th>Unnamed: 0</th>\n",
       "    </tr>\n",
       "  </thead>\n",
       "  <tbody>\n",
       "    <tr>\n",
       "      <th>0</th>\n",
       "      <td>\u000f~r</td>\n",
       "    </tr>\n",
       "  </tbody>\n",
       "</table>\n",
       "</div>"
      ]
     },
     "metadata": {},
     "execution_count": 89
    }
   ],
   "metadata": {}
  },
  {
   "cell_type": "code",
   "execution_count": 84,
   "source": [
    "df"
   ],
   "outputs": [
    {
     "output_type": "execute_result",
     "data": {
      "text/plain": [
       "  Unnamed: 0\n",
       "0        \u000f~r"
      ],
      "text/html": [
       "<div>\n",
       "<style scoped>\n",
       "    .dataframe tbody tr th:only-of-type {\n",
       "        vertical-align: middle;\n",
       "    }\n",
       "\n",
       "    .dataframe tbody tr th {\n",
       "        vertical-align: top;\n",
       "    }\n",
       "\n",
       "    .dataframe thead th {\n",
       "        text-align: right;\n",
       "    }\n",
       "</style>\n",
       "<table border=\"1\" class=\"dataframe\">\n",
       "  <thead>\n",
       "    <tr style=\"text-align: right;\">\n",
       "      <th></th>\n",
       "      <th>Unnamed: 0</th>\n",
       "    </tr>\n",
       "  </thead>\n",
       "  <tbody>\n",
       "    <tr>\n",
       "      <th>0</th>\n",
       "      <td>\u000f~r</td>\n",
       "    </tr>\n",
       "  </tbody>\n",
       "</table>\n",
       "</div>"
      ]
     },
     "metadata": {},
     "execution_count": 84
    }
   ],
   "metadata": {}
  },
  {
   "cell_type": "code",
   "execution_count": null,
   "source": [],
   "outputs": [],
   "metadata": {}
  }
 ],
 "metadata": {
  "orig_nbformat": 4,
  "language_info": {
   "name": "python"
  }
 },
 "nbformat": 4,
 "nbformat_minor": 2
}