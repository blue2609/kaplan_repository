{
 "cells": [
  {
   "cell_type": "code",
   "execution_count": 11,
   "source": [
    "import os\r\n",
    "import re\r\n",
    "from pathlib import Path\r\n",
    "\r\n",
    "filePath = 'C:/Users/Public/Documents/Datasets/DATA 4400/testScript/time_series_covid_19_confirmed_US.csv'\r\n",
    "\r\n",
    "subjectName = os.path.basename(os.path.dirname(filePath))\r\n",
    "subjectName = re.sub('\\s+','',subjectName).upper()\r\n",
    "print(subjectName)\r\n",
    "\r\n"
   ],
   "outputs": [
    {
     "output_type": "stream",
     "name": "stdout",
     "text": [
      "TESTSCRIPT\n"
     ]
    }
   ],
   "metadata": {}
  },
  {
   "cell_type": "code",
   "execution_count": 12,
   "source": [
    "Path(filePath).stem"
   ],
   "outputs": [
    {
     "output_type": "execute_result",
     "data": {
      "text/plain": [
       "'time_series_covid_19_confirmed_US'"
      ]
     },
     "metadata": {},
     "execution_count": 12
    }
   ],
   "metadata": {}
  },
  {
   "cell_type": "code",
   "execution_count": null,
   "source": [],
   "outputs": [],
   "metadata": {}
  }
 ],
 "metadata": {
  "orig_nbformat": 4,
  "language_info": {
   "name": "python"
  }
 },
 "nbformat": 4,
 "nbformat_minor": 2
}