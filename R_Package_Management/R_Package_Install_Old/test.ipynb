{
 "cells": [
  {
   "cell_type": "code",
   "execution_count": 2,
   "metadata": {},
   "outputs": [
    {
     "data": {
      "text/plain": [
       "['.Rhistory',\n",
       " 'ansiaami-ec13-test-waveforms-1.0.0.zip',\n",
       " 'ARIMA2.sfd',\n",
       " 'arima_example.sfd',\n",
       " 'AutoArima.R',\n",
       " 'BigCat2.csv',\n",
       " 'clustering_with_variable_importance_data_function_for_spotfire_v1.04.zip',\n",
       " 'DATA4400_Example_arima.r',\n",
       " 'DATA4800_R_NN_Iris.r',\n",
       " 'DATA4800_R_PCA.R',\n",
       " 'DATA4800_R_PCA.sfd',\n",
       " 'DATA4800_R_RF_Iris.R',\n",
       " 'Example_arima (1).r',\n",
       " 'predicted_values.csv',\n",
       " 'R_RF_Iris (14) (1).sfd',\n",
       " 'R_RF_Iris.sfd',\n",
       " 'Test_Arima.R']"
      ]
     },
     "execution_count": 2,
     "metadata": {},
     "output_type": "execute_result"
    }
   ],
   "source": [
    "import os\n",
    "os.listdir('R Scripts')"
   ]
  },
  {
   "cell_type": "code",
   "execution_count": 28,
   "metadata": {},
   "outputs": [],
   "source": [
    "import re\n",
    "testString = \"library(forecast) is the one \"\n",
    "packageName = re.search('(?<=library\\().+(?=\\))',testString).group().strip('\\\"\\'')\n",
    "# packageName = packageName.strip('\\\"\\'')"
   ]
  },
  {
   "cell_type": "code",
   "execution_count": 29,
   "metadata": {},
   "outputs": [
    {
     "name": "stdout",
     "output_type": "stream",
     "text": [
      "forecast\n"
     ]
    }
   ],
   "source": [
    "print(packageName)"
   ]
  },
  {
   "cell_type": "code",
   "execution_count": 33,
   "metadata": {},
   "outputs": [
    {
     "data": {
      "text/plain": [
       "'C:\\\\Users\\\\stanley.setiawan\\\\Documents\\\\Projects\\\\R Package Install'"
      ]
     },
     "execution_count": 33,
     "metadata": {},
     "output_type": "execute_result"
    }
   ],
   "source": [
    "os.getcwd()"
   ]
  },
  {
   "cell_type": "code",
   "execution_count": 87,
   "metadata": {},
   "outputs": [],
   "source": [
    "import re\n",
    "import os\n",
    "\n",
    "# Create lists which will keep track of things\n",
    "RFilePaths = []\n",
    "requiredPackages = []\n",
    "\n",
    "folderPath = './R Scripts'\n",
    "for fileName in os.listdir(folderPath):\n",
    "    RFileName = re.search('.*\\.r$',fileName,re.IGNORECASE)\n",
    "    if RFileName:\n",
    "        RFileName = RFileName.group()\n",
    "        RFilePaths.append(f'{folderPath}/{RFileName}')\n",
    "\n",
    "\n",
    "for RFilePath in RFilePaths:\n",
    "    with open(RFilePath,'r') as RFile:\n",
    "        line = RFile.readline()\n",
    "        while line != '': # The EOF char is an empty string\n",
    "            packageName = re.search('(?<=library\\().+(?=\\))',line)\n",
    "            \n",
    "            # if packageName is not NULL\n",
    "            if packageName:\n",
    "                packageName = packageName.group()\n",
    "                \n",
    "                # if there's more than one argument passed to \n",
    "                # the library() function, take the first element\n",
    "                argsList = packageName.split(',')\n",
    "                if len(argsList)> 1:\n",
    "                    packageName = argsList[0] \n",
    "                packageName = packageName.strip('\\\"\\'')\n",
    "                requiredPackages.append(packageName)\n",
    "#                 print(packageName)\n",
    "\n",
    "            line = RFile.readline()\n",
    "\n",
    "requiredPackages = sorted(set(requiredPackages))"
   ]
  },
  {
   "cell_type": "code",
   "execution_count": 88,
   "metadata": {},
   "outputs": [
    {
     "data": {
      "text/plain": [
       "['GGally',\n",
       " 'MASS',\n",
       " 'Metrics',\n",
       " 'NeuralNetTools',\n",
       " 'ROCR',\n",
       " 'RinR',\n",
       " 'caret',\n",
       " 'cowplot',\n",
       " 'datasets',\n",
       " 'dplyr',\n",
       " 'forecast',\n",
       " 'ggplot2',\n",
       " 'grid',\n",
       " 'neuralnet',\n",
       " 'randomForest']"
      ]
     },
     "execution_count": 88,
     "metadata": {},
     "output_type": "execute_result"
    }
   ],
   "source": [
    "requiredPackages"
   ]
  },
  {
   "cell_type": "markdown",
   "metadata": {},
   "source": [
    "Try to execute R Script from This Python Notebook"
   ]
  },
  {
   "cell_type": "code",
   "execution_count": 89,
   "metadata": {},
   "outputs": [
    {
     "name": "stdout",
     "output_type": "stream",
     "text": [
      " Volume in drive C is OSDisk\n",
      " Volume Serial Number is C21A-A094\n",
      "\n",
      " Directory of C:\\Users\\stanley.setiawan\\Documents\\Projects\\R Package Install\n",
      "\n",
      "28/05/2021  03:45 PM    <DIR>          .\n",
      "28/05/2021  03:45 PM    <DIR>          ..\n",
      "28/05/2021  01:47 PM    <DIR>          .ipynb_checkpoints\n",
      "28/05/2021  10:51 AM                 0 GetMissingPackages.r\n",
      "28/05/2021  11:18 AM               162 MissingLibraries.txt\n",
      "26/05/2021  05:23 PM             4,150 R Package Install.r\n",
      "28/05/2021  02:37 PM    <DIR>          R Scripts\n",
      "28/05/2021  03:45 PM             5,848 test.ipynb\n",
      "               4 File(s)         10,160 bytes\n",
      "               4 Dir(s)  341,493,633,024 bytes free\n"
     ]
    }
   ],
   "source": [
    "ls"
   ]
  },
  {
   "cell_type": "code",
   "execution_count": 92,
   "metadata": {},
   "outputs": [
    {
     "data": {
      "text/plain": [
       "['GGally',\n",
       " 'MASS',\n",
       " 'Metrics',\n",
       " 'NeuralNetTools',\n",
       " 'ROCR',\n",
       " 'RinR',\n",
       " 'caret',\n",
       " 'cowplot',\n",
       " 'datasets',\n",
       " 'dplyr',\n",
       " 'forecast',\n",
       " 'ggplot2',\n",
       " 'grid',\n",
       " 'neuralnet',\n",
       " 'randomForest']"
      ]
     },
     "execution_count": 92,
     "metadata": {},
     "output_type": "execute_result"
    }
   ],
   "source": [
    "requiredPackages"
   ]
  },
  {
   "cell_type": "code",
   "execution_count": 97,
   "metadata": {},
   "outputs": [
    {
     "data": {
      "text/plain": [
       "'C:\\\\Users\\\\stanley.setiawan\\\\Documents\\\\Projects\\\\R Package Install'"
      ]
     },
     "execution_count": 97,
     "metadata": {},
     "output_type": "execute_result"
    }
   ],
   "source": [
    "pwd"
   ]
  },
  {
   "cell_type": "code",
   "execution_count": 101,
   "metadata": {},
   "outputs": [],
   "source": [
    "import subprocess\n",
    "\n",
    "def rscript():\n",
    "    r_path = 'C:/Program Files/R/R-3.6.1/bin/Rscript'\n",
    "    r_script = 'R Package Install.r'\n",
    "    commands = [r_path,r_script]\n",
    "    args = requiredPackages\n",
    "    subprocess.call(commands + args)"
   ]
  },
  {
   "cell_type": "code",
   "execution_count": 103,
   "metadata": {},
   "outputs": [],
   "source": [
    "rscript()"
   ]
  },
  {
   "cell_type": "code",
   "execution_count": null,
   "metadata": {},
   "outputs": [],
   "source": []
  }
 ],
 "metadata": {
  "kernelspec": {
   "display_name": "Python 3",
   "language": "python",
   "name": "python3"
  },
  "language_info": {
   "codemirror_mode": {
    "name": "ipython",
    "version": 3
   },
   "file_extension": ".py",
   "mimetype": "text/x-python",
   "name": "python",
   "nbconvert_exporter": "python",
   "pygments_lexer": "ipython3",
   "version": "3.7.6"
  }
 },
 "nbformat": 4,
 "nbformat_minor": 4
}
